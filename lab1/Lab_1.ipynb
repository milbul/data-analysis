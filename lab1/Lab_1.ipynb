{
 "cells": [
  {
   "cell_type": "markdown",
   "id": "absent-counter",
   "metadata": {
    "id": "absent-counter"
   },
   "source": [
    "# 1. Предобработка\n",
    "\n",
    "\n",
    "Выберите набор данных из списка в конце задания. Обработайте данные в нём:\n",
    "\n",
    "1. Обработайте недостающие данные в датасете - удалить/заменить/etc, обоснуйте своё решение\n",
    "1. Постройте как минимум по 1 графику каждого типа из представленных на лекции. Для каждого построенного графика объясните почему отображённые данные лучше всего представимы именно этим типом графика\n",
    "1. Сохраните датасет\n",
    "\n",
    "\n",
    "1. Создайте новую колонку, отображающую характеристику набора данных. Новая колонка должна обладать смысловой нагрузкой. \n",
    "\n",
    "    Например, для набора данных о прямоугольниках с двумя колонками width и height будет корректно придумать колонку square, равную width * height или perimeter Некорректно будет придумать колонку width2, равную width * 2, потому что эта информация не будет нести полезную информацию о фигурах\n",
    "\n",
    "Не оценивается баллами, но даёт очки уважения:\n",
    "1. Выдвиньте 2 гипотезы о данных. Например, для датасета codeforces достаточно интересной гипотезой может быть \"простые задачи (рейтинг меньше 1500) почти всегда решаются больше 5000 раз\"\n",
    "\n",
    "\n",
    "Наборы данных:\n",
    "\n",
    "1. [Spotify Tracks DB](https://www.kaggle.com/zaheenhamidani/ultimate-spotify-tracks-db) - характеристики треков в spotify\n",
    "1. [VKontakte Dataset of Users' Textual Data](https://www.kaggle.com/oldaandozerskaya/vkontakte-dataset-of-users-textual-data) 1. основная информация 10к профилей ВК\n",
    "1. [Data Science for COVID-19](https://www.kaggle.com/kimjihoo/coronavirusdataset) - информация о распространении коронавируса в Южной Корее в 2020 году\n",
    "1. [Dota 2 - Pro Players Matches Results 2019 ~ 2021](https://www.kaggle.com/devinanzelmo/dota-2-matches?select=player_ratings.csv) - информация матчей игроков DoTA 2. Если данные не влезают в память, можно воспользоваться [аналогом pandas](https://dask.org/) для обработки вне RAM\n",
    "1. [GPS Data of Seabirds](https://www.kaggle.com/saurabhshahane/predicting-animal-behavior-using-gps) - данные о миграции птиц\n",
    "1. [FAANG Historical Stock Price Data](https://www.kaggle.com/specter7/amazon-amzn-historical-stock-price-data) -  данные о биржевых котировках компаний FAANG c 2016 по 2021 год\n",
    "1. [NBA 2k20 player dataset](https://www.kaggle.com/isaienkov/nba2k20-player-dataset) - информация об игроках NBA\n",
    " [Anime dataset](https://www.kaggle.com/thunderz/anime-dataset?select=user_data.csv) - данные о просмотре аниме пользователями с сайта myAnimeList"
   ]
  },
  {
   "cell_type": "code",
   "execution_count": 1,
   "id": "s7kSIOhnuJUF",
   "metadata": {
    "id": "s7kSIOhnuJUF",
    "scrolled": true
   },
   "outputs": [],
   "source": [
    "import pandas as pd\n",
    "import matplotlib.pyplot as plt\n",
    "import numpy as np\n",
    "sp = pd.read_csv('SpotifyFeatures.csv')"
   ]
  },
  {
   "cell_type": "code",
   "execution_count": 2,
   "id": "6e949514-ea95-48ef-b11f-0ff630a74b25",
   "metadata": {},
   "outputs": [
    {
     "data": {
      "text/html": [
       "<div>\n",
       "<style scoped>\n",
       "    .dataframe tbody tr th:only-of-type {\n",
       "        vertical-align: middle;\n",
       "    }\n",
       "\n",
       "    .dataframe tbody tr th {\n",
       "        vertical-align: top;\n",
       "    }\n",
       "\n",
       "    .dataframe thead th {\n",
       "        text-align: right;\n",
       "    }\n",
       "</style>\n",
       "<table border=\"1\" class=\"dataframe\">\n",
       "  <thead>\n",
       "    <tr style=\"text-align: right;\">\n",
       "      <th></th>\n",
       "      <th>genre</th>\n",
       "      <th>artist_name</th>\n",
       "      <th>track_name</th>\n",
       "      <th>track_id</th>\n",
       "      <th>popularity</th>\n",
       "      <th>acousticness</th>\n",
       "      <th>danceability</th>\n",
       "      <th>duration_ms</th>\n",
       "      <th>energy</th>\n",
       "      <th>instrumentalness</th>\n",
       "      <th>key</th>\n",
       "      <th>liveness</th>\n",
       "      <th>loudness</th>\n",
       "      <th>mode</th>\n",
       "      <th>speechiness</th>\n",
       "      <th>tempo</th>\n",
       "      <th>time_signature</th>\n",
       "      <th>valence</th>\n",
       "    </tr>\n",
       "  </thead>\n",
       "  <tbody>\n",
       "    <tr>\n",
       "      <th>0</th>\n",
       "      <td>Movie</td>\n",
       "      <td>Henri Salvador</td>\n",
       "      <td>C'est beau de faire un Show</td>\n",
       "      <td>0BRjO6ga9RKCKjfDqeFgWV</td>\n",
       "      <td>0</td>\n",
       "      <td>0.611</td>\n",
       "      <td>0.389</td>\n",
       "      <td>99373</td>\n",
       "      <td>0.910</td>\n",
       "      <td>0.000</td>\n",
       "      <td>C#</td>\n",
       "      <td>0.3460</td>\n",
       "      <td>-1.828</td>\n",
       "      <td>Major</td>\n",
       "      <td>0.0525</td>\n",
       "      <td>166.969</td>\n",
       "      <td>4/4</td>\n",
       "      <td>0.814</td>\n",
       "    </tr>\n",
       "    <tr>\n",
       "      <th>1</th>\n",
       "      <td>Movie</td>\n",
       "      <td>Martin &amp; les fées</td>\n",
       "      <td>Perdu d'avance (par Gad Elmaleh)</td>\n",
       "      <td>0BjC1NfoEOOusryehmNudP</td>\n",
       "      <td>1</td>\n",
       "      <td>0.246</td>\n",
       "      <td>0.590</td>\n",
       "      <td>137373</td>\n",
       "      <td>0.737</td>\n",
       "      <td>0.000</td>\n",
       "      <td>F#</td>\n",
       "      <td>0.1510</td>\n",
       "      <td>-5.559</td>\n",
       "      <td>Minor</td>\n",
       "      <td>0.0868</td>\n",
       "      <td>174.003</td>\n",
       "      <td>4/4</td>\n",
       "      <td>0.816</td>\n",
       "    </tr>\n",
       "    <tr>\n",
       "      <th>2</th>\n",
       "      <td>Movie</td>\n",
       "      <td>Joseph Williams</td>\n",
       "      <td>Don't Let Me Be Lonely Tonight</td>\n",
       "      <td>0CoSDzoNIKCRs124s9uTVy</td>\n",
       "      <td>3</td>\n",
       "      <td>0.952</td>\n",
       "      <td>0.663</td>\n",
       "      <td>170267</td>\n",
       "      <td>0.131</td>\n",
       "      <td>0.000</td>\n",
       "      <td>C</td>\n",
       "      <td>0.1030</td>\n",
       "      <td>-13.879</td>\n",
       "      <td>Minor</td>\n",
       "      <td>0.0362</td>\n",
       "      <td>99.488</td>\n",
       "      <td>5/4</td>\n",
       "      <td>0.368</td>\n",
       "    </tr>\n",
       "    <tr>\n",
       "      <th>3</th>\n",
       "      <td>Movie</td>\n",
       "      <td>Henri Salvador</td>\n",
       "      <td>Dis-moi Monsieur Gordon Cooper</td>\n",
       "      <td>0Gc6TVm52BwZD07Ki6tIvf</td>\n",
       "      <td>0</td>\n",
       "      <td>0.703</td>\n",
       "      <td>0.240</td>\n",
       "      <td>152427</td>\n",
       "      <td>0.326</td>\n",
       "      <td>0.000</td>\n",
       "      <td>C#</td>\n",
       "      <td>0.0985</td>\n",
       "      <td>-12.178</td>\n",
       "      <td>Major</td>\n",
       "      <td>0.0395</td>\n",
       "      <td>171.758</td>\n",
       "      <td>4/4</td>\n",
       "      <td>0.227</td>\n",
       "    </tr>\n",
       "    <tr>\n",
       "      <th>4</th>\n",
       "      <td>Movie</td>\n",
       "      <td>Fabien Nataf</td>\n",
       "      <td>Ouverture</td>\n",
       "      <td>0IuslXpMROHdEPvSl1fTQK</td>\n",
       "      <td>4</td>\n",
       "      <td>0.950</td>\n",
       "      <td>0.331</td>\n",
       "      <td>82625</td>\n",
       "      <td>0.225</td>\n",
       "      <td>0.123</td>\n",
       "      <td>F</td>\n",
       "      <td>0.2020</td>\n",
       "      <td>-21.150</td>\n",
       "      <td>Major</td>\n",
       "      <td>0.0456</td>\n",
       "      <td>140.576</td>\n",
       "      <td>4/4</td>\n",
       "      <td>0.390</td>\n",
       "    </tr>\n",
       "  </tbody>\n",
       "</table>\n",
       "</div>"
      ],
      "text/plain": [
       "   genre        artist_name                        track_name  \\\n",
       "0  Movie     Henri Salvador       C'est beau de faire un Show   \n",
       "1  Movie  Martin & les fées  Perdu d'avance (par Gad Elmaleh)   \n",
       "2  Movie    Joseph Williams    Don't Let Me Be Lonely Tonight   \n",
       "3  Movie     Henri Salvador    Dis-moi Monsieur Gordon Cooper   \n",
       "4  Movie       Fabien Nataf                         Ouverture   \n",
       "\n",
       "                 track_id  popularity  acousticness  danceability  \\\n",
       "0  0BRjO6ga9RKCKjfDqeFgWV           0         0.611         0.389   \n",
       "1  0BjC1NfoEOOusryehmNudP           1         0.246         0.590   \n",
       "2  0CoSDzoNIKCRs124s9uTVy           3         0.952         0.663   \n",
       "3  0Gc6TVm52BwZD07Ki6tIvf           0         0.703         0.240   \n",
       "4  0IuslXpMROHdEPvSl1fTQK           4         0.950         0.331   \n",
       "\n",
       "   duration_ms  energy  instrumentalness key  liveness  loudness   mode  \\\n",
       "0        99373   0.910             0.000  C#    0.3460    -1.828  Major   \n",
       "1       137373   0.737             0.000  F#    0.1510    -5.559  Minor   \n",
       "2       170267   0.131             0.000   C    0.1030   -13.879  Minor   \n",
       "3       152427   0.326             0.000  C#    0.0985   -12.178  Major   \n",
       "4        82625   0.225             0.123   F    0.2020   -21.150  Major   \n",
       "\n",
       "   speechiness    tempo time_signature  valence  \n",
       "0       0.0525  166.969            4/4    0.814  \n",
       "1       0.0868  174.003            4/4    0.816  \n",
       "2       0.0362   99.488            5/4    0.368  \n",
       "3       0.0395  171.758            4/4    0.227  \n",
       "4       0.0456  140.576            4/4    0.390  "
      ]
     },
     "execution_count": 2,
     "metadata": {},
     "output_type": "execute_result"
    }
   ],
   "source": [
    "sp.head()"
   ]
  },
  {
   "cell_type": "code",
   "execution_count": 3,
   "id": "OBEv05G17XwS",
   "metadata": {
    "colab": {
     "base_uri": "https://localhost:8080/"
    },
    "id": "OBEv05G17XwS",
    "outputId": "27866b0e-0beb-46c8-f0cb-4a72782d902c"
   },
   "outputs": [
    {
     "name": "stdout",
     "output_type": "stream",
     "text": [
      "<class 'pandas.core.frame.DataFrame'>\n",
      "RangeIndex: 232725 entries, 0 to 232724\n",
      "Data columns (total 18 columns):\n",
      " #   Column            Non-Null Count   Dtype  \n",
      "---  ------            --------------   -----  \n",
      " 0   genre             232725 non-null  object \n",
      " 1   artist_name       232725 non-null  object \n",
      " 2   track_name        232725 non-null  object \n",
      " 3   track_id          232725 non-null  object \n",
      " 4   popularity        232725 non-null  int64  \n",
      " 5   acousticness      232725 non-null  float64\n",
      " 6   danceability      232725 non-null  float64\n",
      " 7   duration_ms       232725 non-null  int64  \n",
      " 8   energy            232725 non-null  float64\n",
      " 9   instrumentalness  232725 non-null  float64\n",
      " 10  key               232725 non-null  object \n",
      " 11  liveness          232725 non-null  float64\n",
      " 12  loudness          232725 non-null  float64\n",
      " 13  mode              232725 non-null  object \n",
      " 14  speechiness       232725 non-null  float64\n",
      " 15  tempo             232725 non-null  float64\n",
      " 16  time_signature    232725 non-null  object \n",
      " 17  valence           232725 non-null  float64\n",
      "dtypes: float64(9), int64(2), object(7)\n",
      "memory usage: 32.0+ MB\n"
     ]
    }
   ],
   "source": [
    "sp.info()"
   ]
  },
  {
   "cell_type": "code",
   "execution_count": 4,
   "id": "bRVQC8qs80gi",
   "metadata": {
    "colab": {
     "base_uri": "https://localhost:8080/"
    },
    "id": "bRVQC8qs80gi",
    "outputId": "5280773d-4417-476a-9609-58195f7bb625"
   },
   "outputs": [
    {
     "data": {
      "text/plain": [
       "(232725, 18)"
      ]
     },
     "execution_count": 4,
     "metadata": {},
     "output_type": "execute_result"
    }
   ],
   "source": [
    "sp.shape"
   ]
  },
  {
   "cell_type": "code",
   "execution_count": 5,
   "id": "PwD43JLl89A-",
   "metadata": {
    "colab": {
     "base_uri": "https://localhost:8080/",
     "height": 317
    },
    "id": "PwD43JLl89A-",
    "outputId": "9883b13e-05f3-4f0f-fb82-9fd023d54dc7"
   },
   "outputs": [
    {
     "data": {
      "text/html": [
       "<div>\n",
       "<style scoped>\n",
       "    .dataframe tbody tr th:only-of-type {\n",
       "        vertical-align: middle;\n",
       "    }\n",
       "\n",
       "    .dataframe tbody tr th {\n",
       "        vertical-align: top;\n",
       "    }\n",
       "\n",
       "    .dataframe thead th {\n",
       "        text-align: right;\n",
       "    }\n",
       "</style>\n",
       "<table border=\"1\" class=\"dataframe\">\n",
       "  <thead>\n",
       "    <tr style=\"text-align: right;\">\n",
       "      <th></th>\n",
       "      <th>popularity</th>\n",
       "      <th>acousticness</th>\n",
       "      <th>danceability</th>\n",
       "      <th>duration_ms</th>\n",
       "      <th>energy</th>\n",
       "      <th>instrumentalness</th>\n",
       "      <th>liveness</th>\n",
       "      <th>loudness</th>\n",
       "      <th>speechiness</th>\n",
       "      <th>tempo</th>\n",
       "      <th>valence</th>\n",
       "    </tr>\n",
       "  </thead>\n",
       "  <tbody>\n",
       "    <tr>\n",
       "      <th>count</th>\n",
       "      <td>232725.000000</td>\n",
       "      <td>232725.000000</td>\n",
       "      <td>232725.000000</td>\n",
       "      <td>2.327250e+05</td>\n",
       "      <td>232725.000000</td>\n",
       "      <td>232725.000000</td>\n",
       "      <td>232725.000000</td>\n",
       "      <td>232725.000000</td>\n",
       "      <td>232725.000000</td>\n",
       "      <td>232725.000000</td>\n",
       "      <td>232725.000000</td>\n",
       "    </tr>\n",
       "    <tr>\n",
       "      <th>mean</th>\n",
       "      <td>41.127502</td>\n",
       "      <td>0.368560</td>\n",
       "      <td>0.554364</td>\n",
       "      <td>2.351223e+05</td>\n",
       "      <td>0.570958</td>\n",
       "      <td>0.148301</td>\n",
       "      <td>0.215009</td>\n",
       "      <td>-9.569885</td>\n",
       "      <td>0.120765</td>\n",
       "      <td>117.666585</td>\n",
       "      <td>0.454917</td>\n",
       "    </tr>\n",
       "    <tr>\n",
       "      <th>std</th>\n",
       "      <td>18.189948</td>\n",
       "      <td>0.354768</td>\n",
       "      <td>0.185608</td>\n",
       "      <td>1.189359e+05</td>\n",
       "      <td>0.263456</td>\n",
       "      <td>0.302768</td>\n",
       "      <td>0.198273</td>\n",
       "      <td>5.998204</td>\n",
       "      <td>0.185518</td>\n",
       "      <td>30.898907</td>\n",
       "      <td>0.260065</td>\n",
       "    </tr>\n",
       "    <tr>\n",
       "      <th>min</th>\n",
       "      <td>0.000000</td>\n",
       "      <td>0.000000</td>\n",
       "      <td>0.056900</td>\n",
       "      <td>1.538700e+04</td>\n",
       "      <td>0.000020</td>\n",
       "      <td>0.000000</td>\n",
       "      <td>0.009670</td>\n",
       "      <td>-52.457000</td>\n",
       "      <td>0.022200</td>\n",
       "      <td>30.379000</td>\n",
       "      <td>0.000000</td>\n",
       "    </tr>\n",
       "    <tr>\n",
       "      <th>25%</th>\n",
       "      <td>29.000000</td>\n",
       "      <td>0.037600</td>\n",
       "      <td>0.435000</td>\n",
       "      <td>1.828570e+05</td>\n",
       "      <td>0.385000</td>\n",
       "      <td>0.000000</td>\n",
       "      <td>0.097400</td>\n",
       "      <td>-11.771000</td>\n",
       "      <td>0.036700</td>\n",
       "      <td>92.959000</td>\n",
       "      <td>0.237000</td>\n",
       "    </tr>\n",
       "    <tr>\n",
       "      <th>50%</th>\n",
       "      <td>43.000000</td>\n",
       "      <td>0.232000</td>\n",
       "      <td>0.571000</td>\n",
       "      <td>2.204270e+05</td>\n",
       "      <td>0.605000</td>\n",
       "      <td>0.000044</td>\n",
       "      <td>0.128000</td>\n",
       "      <td>-7.762000</td>\n",
       "      <td>0.050100</td>\n",
       "      <td>115.778000</td>\n",
       "      <td>0.444000</td>\n",
       "    </tr>\n",
       "    <tr>\n",
       "      <th>75%</th>\n",
       "      <td>55.000000</td>\n",
       "      <td>0.722000</td>\n",
       "      <td>0.692000</td>\n",
       "      <td>2.657680e+05</td>\n",
       "      <td>0.787000</td>\n",
       "      <td>0.035800</td>\n",
       "      <td>0.264000</td>\n",
       "      <td>-5.501000</td>\n",
       "      <td>0.105000</td>\n",
       "      <td>139.054000</td>\n",
       "      <td>0.660000</td>\n",
       "    </tr>\n",
       "    <tr>\n",
       "      <th>max</th>\n",
       "      <td>100.000000</td>\n",
       "      <td>0.996000</td>\n",
       "      <td>0.989000</td>\n",
       "      <td>5.552917e+06</td>\n",
       "      <td>0.999000</td>\n",
       "      <td>0.999000</td>\n",
       "      <td>1.000000</td>\n",
       "      <td>3.744000</td>\n",
       "      <td>0.967000</td>\n",
       "      <td>242.903000</td>\n",
       "      <td>1.000000</td>\n",
       "    </tr>\n",
       "  </tbody>\n",
       "</table>\n",
       "</div>"
      ],
      "text/plain": [
       "          popularity   acousticness   danceability   duration_ms  \\\n",
       "count  232725.000000  232725.000000  232725.000000  2.327250e+05   \n",
       "mean       41.127502       0.368560       0.554364  2.351223e+05   \n",
       "std        18.189948       0.354768       0.185608  1.189359e+05   \n",
       "min         0.000000       0.000000       0.056900  1.538700e+04   \n",
       "25%        29.000000       0.037600       0.435000  1.828570e+05   \n",
       "50%        43.000000       0.232000       0.571000  2.204270e+05   \n",
       "75%        55.000000       0.722000       0.692000  2.657680e+05   \n",
       "max       100.000000       0.996000       0.989000  5.552917e+06   \n",
       "\n",
       "              energy  instrumentalness       liveness       loudness  \\\n",
       "count  232725.000000     232725.000000  232725.000000  232725.000000   \n",
       "mean        0.570958          0.148301       0.215009      -9.569885   \n",
       "std         0.263456          0.302768       0.198273       5.998204   \n",
       "min         0.000020          0.000000       0.009670     -52.457000   \n",
       "25%         0.385000          0.000000       0.097400     -11.771000   \n",
       "50%         0.605000          0.000044       0.128000      -7.762000   \n",
       "75%         0.787000          0.035800       0.264000      -5.501000   \n",
       "max         0.999000          0.999000       1.000000       3.744000   \n",
       "\n",
       "         speechiness          tempo        valence  \n",
       "count  232725.000000  232725.000000  232725.000000  \n",
       "mean        0.120765     117.666585       0.454917  \n",
       "std         0.185518      30.898907       0.260065  \n",
       "min         0.022200      30.379000       0.000000  \n",
       "25%         0.036700      92.959000       0.237000  \n",
       "50%         0.050100     115.778000       0.444000  \n",
       "75%         0.105000     139.054000       0.660000  \n",
       "max         0.967000     242.903000       1.000000  "
      ]
     },
     "execution_count": 5,
     "metadata": {},
     "output_type": "execute_result"
    }
   ],
   "source": [
    "sp.describe()"
   ]
  },
  {
   "cell_type": "code",
   "execution_count": 6,
   "id": "idZie_-BsAcx",
   "metadata": {
    "colab": {
     "base_uri": "https://localhost:8080/"
    },
    "id": "idZie_-BsAcx",
    "outputId": "244341af-0199-4fc1-c74f-3c77f099a7af"
   },
   "outputs": [
    {
     "data": {
      "text/plain": [
       "genre               0\n",
       "artist_name         0\n",
       "track_name          0\n",
       "track_id            0\n",
       "popularity          0\n",
       "acousticness        0\n",
       "danceability        0\n",
       "duration_ms         0\n",
       "energy              0\n",
       "instrumentalness    0\n",
       "key                 0\n",
       "liveness            0\n",
       "loudness            0\n",
       "mode                0\n",
       "speechiness         0\n",
       "tempo               0\n",
       "time_signature      0\n",
       "valence             0\n",
       "dtype: int64"
      ]
     },
     "execution_count": 6,
     "metadata": {},
     "output_type": "execute_result"
    }
   ],
   "source": [
    "sp.isna().sum()"
   ]
  },
  {
   "cell_type": "code",
   "execution_count": 7,
   "id": "7ba05eb8-eeb5-4b00-9f0a-86bd0d6b8fd3",
   "metadata": {},
   "outputs": [
    {
     "data": {
      "image/png": "[encoded data removed]",
      "text/plain": [
       "<Figure size 432x288 with 1 Axes>"
      ]
     },
     "metadata": {
      "needs_background": "light"
     },
     "output_type": "display_data"
    }
   ],
   "source": [
    "ds = sp.sort_values(by=['popularity'])\n",
    "plt.plot(ds['popularity'], ds['duration_ms'], color='#91131f')\n",
    "plt.xlabel('popularity')\n",
    "plt.ylabel('duration_ms')\n",
    "plt.show()"
   ]
  },
  {
   "cell_type": "code",
   "execution_count": 8,
   "id": "gDv1D1res9E6",
   "metadata": {
    "colab": {
     "base_uri": "https://localhost:8080/",
     "height": 623
    },
    "id": "gDv1D1res9E6",
    "outputId": "d9fd0095-9c7a-458d-d134-c8daaca6b612"
   },
   "outputs": [
    {
     "data": {
      "text/plain": [
       "<BarContainer object of 26 artists>"
      ]
     },
     "execution_count": 8,
     "metadata": {},
     "output_type": "execute_result"
    },
    {
     "data": {
      "image/png": "[encoded data removed]",
      "text/plain": [
       "<Figure size 720x720 with 1 Axes>"
      ]
     },
     "metadata": {
      "needs_background": "light"
     },
     "output_type": "display_data"
    }
   ],
   "source": [
    "plt.figure(figsize = (10,10))\n",
    "genres = sp[sp['popularity'] > 50]['genre'].value_counts()\n",
    "plt.xlabel('Number of songs with popularity over 50')\n",
    "plt.ylabel('Genre')\n",
    "plt.barh(genres.index, genres, color='#91131f')"
   ]
  },
  {
   "cell_type": "code",
   "execution_count": 9,
   "id": "R5gImKH4jFPe",
   "metadata": {
    "colab": {
     "base_uri": "https://localhost:8080/",
     "height": 411
    },
    "id": "R5gImKH4jFPe",
    "outputId": "c6a1b398-3e3a-4f0f-8574-d674691a587c"
   },
   "outputs": [
    {
     "data": {
      "text/html": [
       "<div>\n",
       "<style scoped>\n",
       "    .dataframe tbody tr th:only-of-type {\n",
       "        vertical-align: middle;\n",
       "    }\n",
       "\n",
       "    .dataframe tbody tr th {\n",
       "        vertical-align: top;\n",
       "    }\n",
       "\n",
       "    .dataframe thead th {\n",
       "        text-align: right;\n",
       "    }\n",
       "</style>\n",
       "<table border=\"1\" class=\"dataframe\">\n",
       "  <thead>\n",
       "    <tr style=\"text-align: right;\">\n",
       "      <th></th>\n",
       "      <th>genre</th>\n",
       "      <th>artist_name</th>\n",
       "      <th>track_name</th>\n",
       "      <th>track_id</th>\n",
       "      <th>popularity</th>\n",
       "      <th>acousticness</th>\n",
       "      <th>danceability</th>\n",
       "      <th>duration_ms</th>\n",
       "      <th>energy</th>\n",
       "      <th>instrumentalness</th>\n",
       "      <th>key</th>\n",
       "      <th>liveness</th>\n",
       "      <th>loudness</th>\n",
       "      <th>mode</th>\n",
       "      <th>speechiness</th>\n",
       "      <th>tempo</th>\n",
       "      <th>time_signature</th>\n",
       "      <th>valence</th>\n",
       "    </tr>\n",
       "  </thead>\n",
       "  <tbody>\n",
       "    <tr>\n",
       "      <th>77052</th>\n",
       "      <td>Children’s Music</td>\n",
       "      <td>Joji</td>\n",
       "      <td>SLOW DANCING IN THE DARK</td>\n",
       "      <td>0rKtyWc8bvkriBthvHKY8d</td>\n",
       "      <td>84</td>\n",
       "      <td>0.5440</td>\n",
       "      <td>0.515</td>\n",
       "      <td>209274</td>\n",
       "      <td>0.479</td>\n",
       "      <td>0.005980</td>\n",
       "      <td>D#</td>\n",
       "      <td>0.191</td>\n",
       "      <td>-7.458</td>\n",
       "      <td>Major</td>\n",
       "      <td>0.0261</td>\n",
       "      <td>88.964</td>\n",
       "      <td>4/4</td>\n",
       "      <td>0.284</td>\n",
       "    </tr>\n",
       "    <tr>\n",
       "      <th>77054</th>\n",
       "      <td>Children’s Music</td>\n",
       "      <td>H.E.R.</td>\n",
       "      <td>Best Part (feat. Daniel Caesar)</td>\n",
       "      <td>4OBZT9EnhYIV17t4pGw7ig</td>\n",
       "      <td>84</td>\n",
       "      <td>0.7950</td>\n",
       "      <td>0.473</td>\n",
       "      <td>209400</td>\n",
       "      <td>0.371</td>\n",
       "      <td>0.000000</td>\n",
       "      <td>E</td>\n",
       "      <td>0.109</td>\n",
       "      <td>-10.219</td>\n",
       "      <td>Minor</td>\n",
       "      <td>0.0405</td>\n",
       "      <td>75.208</td>\n",
       "      <td>4/4</td>\n",
       "      <td>0.413</td>\n",
       "    </tr>\n",
       "    <tr>\n",
       "      <th>77073</th>\n",
       "      <td>Children’s Music</td>\n",
       "      <td>Linkin Park</td>\n",
       "      <td>In The End</td>\n",
       "      <td>60a0Rd6pjrkxjPbaKzXjfq</td>\n",
       "      <td>84</td>\n",
       "      <td>0.0103</td>\n",
       "      <td>0.542</td>\n",
       "      <td>216933</td>\n",
       "      <td>0.853</td>\n",
       "      <td>0.000000</td>\n",
       "      <td>D#</td>\n",
       "      <td>0.108</td>\n",
       "      <td>-6.407</td>\n",
       "      <td>Minor</td>\n",
       "      <td>0.0498</td>\n",
       "      <td>105.256</td>\n",
       "      <td>4/4</td>\n",
       "      <td>0.370</td>\n",
       "    </tr>\n",
       "    <tr>\n",
       "      <th>77217</th>\n",
       "      <td>Children’s Music</td>\n",
       "      <td>ChocQuibTown</td>\n",
       "      <td>Pa Olvidarte (feat. Manuel Turizo) - Remix</td>\n",
       "      <td>2ktoFujjJtantyMoVdBJlX</td>\n",
       "      <td>85</td>\n",
       "      <td>0.0441</td>\n",
       "      <td>0.724</td>\n",
       "      <td>256418</td>\n",
       "      <td>0.791</td>\n",
       "      <td>0.000007</td>\n",
       "      <td>G</td>\n",
       "      <td>0.239</td>\n",
       "      <td>-5.411</td>\n",
       "      <td>Major</td>\n",
       "      <td>0.1690</td>\n",
       "      <td>176.011</td>\n",
       "      <td>4/4</td>\n",
       "      <td>0.856</td>\n",
       "    </tr>\n",
       "    <tr>\n",
       "      <th>77053</th>\n",
       "      <td>Children’s Music</td>\n",
       "      <td>YUNGBLUD</td>\n",
       "      <td>11 Minutes (with Halsey feat. Travis Barker)</td>\n",
       "      <td>4mGdjNMo0RonTlOEb7cYg4</td>\n",
       "      <td>86</td>\n",
       "      <td>0.0116</td>\n",
       "      <td>0.464</td>\n",
       "      <td>239507</td>\n",
       "      <td>0.852</td>\n",
       "      <td>0.000000</td>\n",
       "      <td>B</td>\n",
       "      <td>0.108</td>\n",
       "      <td>-3.804</td>\n",
       "      <td>Major</td>\n",
       "      <td>0.0670</td>\n",
       "      <td>160.075</td>\n",
       "      <td>4/4</td>\n",
       "      <td>0.233</td>\n",
       "    </tr>\n",
       "  </tbody>\n",
       "</table>\n",
       "</div>"
      ],
      "text/plain": [
       "                  genre   artist_name  \\\n",
       "77052  Children’s Music          Joji   \n",
       "77054  Children’s Music        H.E.R.   \n",
       "77073  Children’s Music   Linkin Park   \n",
       "77217  Children’s Music  ChocQuibTown   \n",
       "77053  Children’s Music      YUNGBLUD   \n",
       "\n",
       "                                         track_name                track_id  \\\n",
       "77052                      SLOW DANCING IN THE DARK  0rKtyWc8bvkriBthvHKY8d   \n",
       "77054               Best Part (feat. Daniel Caesar)  4OBZT9EnhYIV17t4pGw7ig   \n",
       "77073                                    In The End  60a0Rd6pjrkxjPbaKzXjfq   \n",
       "77217    Pa Olvidarte (feat. Manuel Turizo) - Remix  2ktoFujjJtantyMoVdBJlX   \n",
       "77053  11 Minutes (with Halsey feat. Travis Barker)  4mGdjNMo0RonTlOEb7cYg4   \n",
       "\n",
       "       popularity  acousticness  danceability  duration_ms  energy  \\\n",
       "77052          84        0.5440         0.515       209274   0.479   \n",
       "77054          84        0.7950         0.473       209400   0.371   \n",
       "77073          84        0.0103         0.542       216933   0.853   \n",
       "77217          85        0.0441         0.724       256418   0.791   \n",
       "77053          86        0.0116         0.464       239507   0.852   \n",
       "\n",
       "       instrumentalness key  liveness  loudness   mode  speechiness    tempo  \\\n",
       "77052          0.005980  D#     0.191    -7.458  Major       0.0261   88.964   \n",
       "77054          0.000000   E     0.109   -10.219  Minor       0.0405   75.208   \n",
       "77073          0.000000  D#     0.108    -6.407  Minor       0.0498  105.256   \n",
       "77217          0.000007   G     0.239    -5.411  Major       0.1690  176.011   \n",
       "77053          0.000000   B     0.108    -3.804  Major       0.0670  160.075   \n",
       "\n",
       "      time_signature  valence  \n",
       "77052            4/4    0.284  \n",
       "77054            4/4    0.413  \n",
       "77073            4/4    0.370  \n",
       "77217            4/4    0.856  \n",
       "77053            4/4    0.233  "
      ]
     },
     "execution_count": 9,
     "metadata": {},
     "output_type": "execute_result"
    }
   ],
   "source": [
    "sp.sort_values('popularity').loc[(sp['genre'] == 'Children’s Music')].tail()"
   ]
  },
  {
   "cell_type": "code",
   "execution_count": 10,
   "id": "MN9ioMuJyGwr",
   "metadata": {
    "colab": {
     "base_uri": "https://localhost:8080/",
     "height": 117
    },
    "id": "MN9ioMuJyGwr",
    "outputId": "a3f6ed23-458d-439e-9792-f45de6af5c92"
   },
   "outputs": [
    {
     "data": {
      "text/html": [
       "<div>\n",
       "<style scoped>\n",
       "    .dataframe tbody tr th:only-of-type {\n",
       "        vertical-align: middle;\n",
       "    }\n",
       "\n",
       "    .dataframe tbody tr th {\n",
       "        vertical-align: top;\n",
       "    }\n",
       "\n",
       "    .dataframe thead th {\n",
       "        text-align: right;\n",
       "    }\n",
       "</style>\n",
       "<table border=\"1\" class=\"dataframe\">\n",
       "  <thead>\n",
       "    <tr style=\"text-align: right;\">\n",
       "      <th></th>\n",
       "      <th>genre</th>\n",
       "      <th>artist_name</th>\n",
       "      <th>track_name</th>\n",
       "      <th>track_id</th>\n",
       "      <th>popularity</th>\n",
       "      <th>acousticness</th>\n",
       "      <th>danceability</th>\n",
       "      <th>duration_ms</th>\n",
       "      <th>energy</th>\n",
       "      <th>instrumentalness</th>\n",
       "      <th>key</th>\n",
       "      <th>liveness</th>\n",
       "      <th>loudness</th>\n",
       "      <th>mode</th>\n",
       "      <th>speechiness</th>\n",
       "      <th>tempo</th>\n",
       "      <th>time_signature</th>\n",
       "      <th>valence</th>\n",
       "    </tr>\n",
       "  </thead>\n",
       "  <tbody>\n",
       "    <tr>\n",
       "      <th>71689</th>\n",
       "      <td>Children's Music</td>\n",
       "      <td>Tom's Music Box</td>\n",
       "      <td>Lullaby and Good Night</td>\n",
       "      <td>30y8W512Sf3RbhVDHF38vY</td>\n",
       "      <td>51</td>\n",
       "      <td>0.596</td>\n",
       "      <td>0.917</td>\n",
       "      <td>64322</td>\n",
       "      <td>0.185</td>\n",
       "      <td>0.859</td>\n",
       "      <td>D</td>\n",
       "      <td>0.129</td>\n",
       "      <td>-10.079</td>\n",
       "      <td>Major</td>\n",
       "      <td>0.12</td>\n",
       "      <td>94.029</td>\n",
       "      <td>3/4</td>\n",
       "      <td>0.775</td>\n",
       "    </tr>\n",
       "  </tbody>\n",
       "</table>\n",
       "</div>"
      ],
      "text/plain": [
       "                  genre      artist_name              track_name  \\\n",
       "71689  Children's Music  Tom's Music Box  Lullaby and Good Night   \n",
       "\n",
       "                     track_id  popularity  acousticness  danceability  \\\n",
       "71689  30y8W512Sf3RbhVDHF38vY          51         0.596         0.917   \n",
       "\n",
       "       duration_ms  energy  instrumentalness key  liveness  loudness   mode  \\\n",
       "71689        64322   0.185             0.859   D     0.129   -10.079  Major   \n",
       "\n",
       "       speechiness   tempo time_signature  valence  \n",
       "71689         0.12  94.029            3/4    0.775  "
      ]
     },
     "execution_count": 10,
     "metadata": {},
     "output_type": "execute_result"
    }
   ],
   "source": [
    "sp.loc[(sp['popularity'] > 50) & (sp['genre'] == 'Children\\'s Music')].head()"
   ]
  },
  {
   "cell_type": "code",
   "execution_count": 11,
   "id": "sWoQxpjjnrRP",
   "metadata": {
    "colab": {
     "base_uri": "https://localhost:8080/",
     "height": 247
    },
    "id": "sWoQxpjjnrRP",
    "outputId": "02b6baab-9858-44c4-db4b-bbd526356e10"
   },
   "outputs": [
    {
     "data": {
      "text/html": [
       "<div>\n",
       "<style scoped>\n",
       "    .dataframe tbody tr th:only-of-type {\n",
       "        vertical-align: middle;\n",
       "    }\n",
       "\n",
       "    .dataframe tbody tr th {\n",
       "        vertical-align: top;\n",
       "    }\n",
       "\n",
       "    .dataframe thead th {\n",
       "        text-align: right;\n",
       "    }\n",
       "</style>\n",
       "<table border=\"1\" class=\"dataframe\">\n",
       "  <thead>\n",
       "    <tr style=\"text-align: right;\">\n",
       "      <th></th>\n",
       "      <th>genre</th>\n",
       "      <th>artist_name</th>\n",
       "      <th>track_name</th>\n",
       "      <th>track_id</th>\n",
       "      <th>popularity</th>\n",
       "      <th>acousticness</th>\n",
       "      <th>danceability</th>\n",
       "      <th>duration_ms</th>\n",
       "      <th>energy</th>\n",
       "      <th>instrumentalness</th>\n",
       "      <th>key</th>\n",
       "      <th>liveness</th>\n",
       "      <th>loudness</th>\n",
       "      <th>mode</th>\n",
       "      <th>speechiness</th>\n",
       "      <th>tempo</th>\n",
       "      <th>time_signature</th>\n",
       "      <th>valence</th>\n",
       "    </tr>\n",
       "  </thead>\n",
       "  <tbody>\n",
       "    <tr>\n",
       "      <th>71652</th>\n",
       "      <td>Children's Music</td>\n",
       "      <td>Pinkfong</td>\n",
       "      <td>Baby Shark Music Box</td>\n",
       "      <td>07enmUOMmpuy7ZVUXHAPIk</td>\n",
       "      <td>44</td>\n",
       "      <td>0.68800</td>\n",
       "      <td>0.686</td>\n",
       "      <td>110523</td>\n",
       "      <td>0.121</td>\n",
       "      <td>0.885000</td>\n",
       "      <td>G</td>\n",
       "      <td>0.0793</td>\n",
       "      <td>-20.751</td>\n",
       "      <td>Major</td>\n",
       "      <td>0.1030</td>\n",
       "      <td>148.002</td>\n",
       "      <td>4/4</td>\n",
       "      <td>0.818</td>\n",
       "    </tr>\n",
       "    <tr>\n",
       "      <th>71671</th>\n",
       "      <td>Children's Music</td>\n",
       "      <td>Toddler Tunes</td>\n",
       "      <td>Baby Shark (The Shark Song)</td>\n",
       "      <td>0BnTI0w7x5f5PPlWQzJFjo</td>\n",
       "      <td>40</td>\n",
       "      <td>0.00809</td>\n",
       "      <td>0.679</td>\n",
       "      <td>121500</td>\n",
       "      <td>0.310</td>\n",
       "      <td>0.000000</td>\n",
       "      <td>G</td>\n",
       "      <td>0.1030</td>\n",
       "      <td>-11.959</td>\n",
       "      <td>Major</td>\n",
       "      <td>0.0901</td>\n",
       "      <td>146.396</td>\n",
       "      <td>1/4</td>\n",
       "      <td>0.850</td>\n",
       "    </tr>\n",
       "    <tr>\n",
       "      <th>73177</th>\n",
       "      <td>Children's Music</td>\n",
       "      <td>Nursery Rhymes and Kids Songs</td>\n",
       "      <td>Baby Shark</td>\n",
       "      <td>3itMoTSgbtRZUvhZlOOYxb</td>\n",
       "      <td>3</td>\n",
       "      <td>0.45500</td>\n",
       "      <td>0.907</td>\n",
       "      <td>114977</td>\n",
       "      <td>0.335</td>\n",
       "      <td>0.000003</td>\n",
       "      <td>G</td>\n",
       "      <td>0.0711</td>\n",
       "      <td>-16.572</td>\n",
       "      <td>Major</td>\n",
       "      <td>0.0489</td>\n",
       "      <td>109.990</td>\n",
       "      <td>4/4</td>\n",
       "      <td>0.973</td>\n",
       "    </tr>\n",
       "  </tbody>\n",
       "</table>\n",
       "</div>"
      ],
      "text/plain": [
       "                  genre                    artist_name  \\\n",
       "71652  Children's Music                       Pinkfong   \n",
       "71671  Children's Music                  Toddler Tunes   \n",
       "73177  Children's Music  Nursery Rhymes and Kids Songs   \n",
       "\n",
       "                        track_name                track_id  popularity  \\\n",
       "71652         Baby Shark Music Box  07enmUOMmpuy7ZVUXHAPIk          44   \n",
       "71671  Baby Shark (The Shark Song)  0BnTI0w7x5f5PPlWQzJFjo          40   \n",
       "73177                   Baby Shark  3itMoTSgbtRZUvhZlOOYxb           3   \n",
       "\n",
       "       acousticness  danceability  duration_ms  energy  instrumentalness key  \\\n",
       "71652       0.68800         0.686       110523   0.121          0.885000   G   \n",
       "71671       0.00809         0.679       121500   0.310          0.000000   G   \n",
       "73177       0.45500         0.907       114977   0.335          0.000003   G   \n",
       "\n",
       "       liveness  loudness   mode  speechiness    tempo time_signature  valence  \n",
       "71652    0.0793   -20.751  Major       0.1030  148.002            4/4    0.818  \n",
       "71671    0.1030   -11.959  Major       0.0901  146.396            1/4    0.850  \n",
       "73177    0.0711   -16.572  Major       0.0489  109.990            4/4    0.973  "
      ]
     },
     "execution_count": 11,
     "metadata": {},
     "output_type": "execute_result"
    }
   ],
   "source": [
    "sp.loc[(sp['track_name'].str.contains(\"Baby Shark\")) & (sp['genre'] == 'Children\\'s Music')]"
   ]
  },
  {
   "cell_type": "code",
   "execution_count": 12,
   "id": "3hDPg_K7dMLL",
   "metadata": {
    "colab": {
     "base_uri": "https://localhost:8080/",
     "height": 337
    },
    "id": "3hDPg_K7dMLL",
    "outputId": "3bccf6ab-8704-4a99-98d2-bbdc64696304"
   },
   "outputs": [
    {
     "data": {
      "text/plain": [
       "<AxesSubplot:>"
      ]
     },
     "execution_count": 12,
     "metadata": {},
     "output_type": "execute_result"
    },
    {
     "data": {
      "image/png": "[encoded data removed]",
      "text/plain": [
       "<Figure size 720x360 with 1 Axes>"
      ]
     },
     "metadata": {
      "needs_background": "light"
     },
     "output_type": "display_data"
    }
   ],
   "source": [
    "plt.figure(figsize = (10,5))\n",
    "sp[sp['genre'] == 'Movie']['acousticness'].hist(bins=1000, color='#91131f')"
   ]
  },
  {
   "cell_type": "code",
   "execution_count": 13,
   "id": "4JmDMx_CMWgc",
   "metadata": {
    "colab": {
     "base_uri": "https://localhost:8080/",
     "height": 469
    },
    "id": "4JmDMx_CMWgc",
    "outputId": "3f67ec0b-1e8a-46e8-ad2c-f7d45c2ca93a"
   },
   "outputs": [
    {
     "data": {
      "text/plain": [
       "{'whiskers': [<matplotlib.lines.Line2D at 0x7fc164eafd00>,\n",
       "  <matplotlib.lines.Line2D at 0x7fc164eafca0>],\n",
       " 'caps': [<matplotlib.lines.Line2D at 0x7fc164eaf070>,\n",
       "  <matplotlib.lines.Line2D at 0x7fc164c38880>],\n",
       " 'boxes': [<matplotlib.lines.Line2D at 0x7fc164eaf190>],\n",
       " 'medians': [<matplotlib.lines.Line2D at 0x7fc164c38df0>],\n",
       " 'fliers': [<matplotlib.lines.Line2D at 0x7fc164eb3be0>],\n",
       " 'means': []}"
      ]
     },
     "execution_count": 13,
     "metadata": {},
     "output_type": "execute_result"
    },
    {
     "data": {
      "image/png": "[encoded data removed]",
      "text/plain": [
       "<Figure size 1080x360 with 1 Axes>"
      ]
     },
     "metadata": {
      "needs_background": "light"
     },
     "output_type": "display_data"
    }
   ],
   "source": [
    "plt.figure(figsize = (15,5))\n",
    "unique = sp.drop_duplicates(subset=['track_id'])\n",
    "plt.boxplot(unique.duration_ms, vert=False, whis=0.96)"
   ]
  },
  {
   "cell_type": "code",
   "execution_count": 14,
   "id": "-2uxCz5kBNLl",
   "metadata": {
    "colab": {
     "base_uri": "https://localhost:8080/",
     "height": 351
    },
    "id": "-2uxCz5kBNLl",
    "outputId": "f9e91d68-a042-41d6-876e-d0030dcf14e8"
   },
   "outputs": [
    {
     "data": {
      "text/plain": [
       "<matplotlib.collections.PathCollection at 0x7fc1693d6f10>"
      ]
     },
     "execution_count": 14,
     "metadata": {},
     "output_type": "execute_result"
    },
    {
     "data": {
      "image/png": "[encoded data removed]",
      "text/plain": [
       "<Figure size 1080x360 with 1 Axes>"
      ]
     },
     "metadata": {
      "needs_background": "light"
     },
     "output_type": "display_data"
    }
   ],
   "source": [
    "plt.figure(figsize = (15,5))\n",
    "unique = sp.drop_duplicates(subset=['track_id'])\n",
    "pop = unique.sort_values('popularity').tail(100)\n",
    "rand = unique.sample(n = 100)\n",
    "plt.xlabel('danceability')\n",
    "plt.ylabel('loudness')\n",
    "plt.scatter(pop['danceability'], pop['loudness'], color='#91131f')\n",
    "plt.scatter(rand['danceability'], rand['loudness'], color='#11230f')"
   ]
  },
  {
   "cell_type": "code",
   "execution_count": 15,
   "id": "L_473Hgw6JGD",
   "metadata": {
    "colab": {
     "base_uri": "https://localhost:8080/",
     "height": 617
    },
    "id": "L_473Hgw6JGD",
    "outputId": "781d4162-24e8-4d0e-d5ee-b91ac744c46f"
   },
   "outputs": [
    {
     "data": {
      "text/html": [
       "<div>\n",
       "<style scoped>\n",
       "    .dataframe tbody tr th:only-of-type {\n",
       "        vertical-align: middle;\n",
       "    }\n",
       "\n",
       "    .dataframe tbody tr th {\n",
       "        vertical-align: top;\n",
       "    }\n",
       "\n",
       "    .dataframe thead th {\n",
       "        text-align: right;\n",
       "    }\n",
       "</style>\n",
       "<table border=\"1\" class=\"dataframe\">\n",
       "  <thead>\n",
       "    <tr style=\"text-align: right;\">\n",
       "      <th></th>\n",
       "      <th>genre</th>\n",
       "      <th>artist_name</th>\n",
       "      <th>track_name</th>\n",
       "      <th>track_id</th>\n",
       "      <th>popularity</th>\n",
       "      <th>acousticness</th>\n",
       "      <th>danceability</th>\n",
       "      <th>duration_ms</th>\n",
       "      <th>energy</th>\n",
       "      <th>instrumentalness</th>\n",
       "      <th>key</th>\n",
       "      <th>liveness</th>\n",
       "      <th>loudness</th>\n",
       "      <th>mode</th>\n",
       "      <th>speechiness</th>\n",
       "      <th>tempo</th>\n",
       "      <th>time_signature</th>\n",
       "      <th>valence</th>\n",
       "      <th>club</th>\n",
       "    </tr>\n",
       "  </thead>\n",
       "  <tbody>\n",
       "    <tr>\n",
       "      <th>14419</th>\n",
       "      <td>Dance</td>\n",
       "      <td>Eiffel 65</td>\n",
       "      <td>Blue (Da Ba Dee) - Gabry Ponte Ice Pop Radio</td>\n",
       "      <td>2yAVzRiEQooPEJ9SYx11L3</td>\n",
       "      <td>73</td>\n",
       "      <td>0.2590</td>\n",
       "      <td>0.822</td>\n",
       "      <td>283748</td>\n",
       "      <td>0.969</td>\n",
       "      <td>0.000162</td>\n",
       "      <td>G</td>\n",
       "      <td>0.3900</td>\n",
       "      <td>-11.471</td>\n",
       "      <td>Minor</td>\n",
       "      <td>0.0582</td>\n",
       "      <td>128.007</td>\n",
       "      <td>4/4</td>\n",
       "      <td>0.765</td>\n",
       "      <td>1.000000</td>\n",
       "    </tr>\n",
       "    <tr>\n",
       "      <th>91802</th>\n",
       "      <td>Hip-Hop</td>\n",
       "      <td>ScHoolboy Q</td>\n",
       "      <td>Big Body</td>\n",
       "      <td>7fQzRNL3k0YUkhTTSuZgcg</td>\n",
       "      <td>49</td>\n",
       "      <td>0.0724</td>\n",
       "      <td>0.944</td>\n",
       "      <td>223360</td>\n",
       "      <td>0.949</td>\n",
       "      <td>0.000000</td>\n",
       "      <td>C#</td>\n",
       "      <td>0.3480</td>\n",
       "      <td>-5.606</td>\n",
       "      <td>Minor</td>\n",
       "      <td>0.1900</td>\n",
       "      <td>116.012</td>\n",
       "      <td>4/4</td>\n",
       "      <td>0.763</td>\n",
       "      <td>0.992027</td>\n",
       "    </tr>\n",
       "    <tr>\n",
       "      <th>66904</th>\n",
       "      <td>Hip-Hop</td>\n",
       "      <td>Logic</td>\n",
       "      <td>Everybody</td>\n",
       "      <td>7cGFbx7MP0H23iHZTZpqMM</td>\n",
       "      <td>74</td>\n",
       "      <td>0.1580</td>\n",
       "      <td>0.885</td>\n",
       "      <td>162347</td>\n",
       "      <td>0.940</td>\n",
       "      <td>0.000000</td>\n",
       "      <td>C#</td>\n",
       "      <td>0.0675</td>\n",
       "      <td>-5.908</td>\n",
       "      <td>Major</td>\n",
       "      <td>0.0909</td>\n",
       "      <td>110.005</td>\n",
       "      <td>4/4</td>\n",
       "      <td>0.770</td>\n",
       "      <td>0.990839</td>\n",
       "    </tr>\n",
       "    <tr>\n",
       "      <th>20981</th>\n",
       "      <td>Dance</td>\n",
       "      <td>Sentidos Opuestos</td>\n",
       "      <td>Amor De Papel</td>\n",
       "      <td>6RTlokHIiobtIsthCLm3as</td>\n",
       "      <td>60</td>\n",
       "      <td>0.2350</td>\n",
       "      <td>0.827</td>\n",
       "      <td>248227</td>\n",
       "      <td>0.951</td>\n",
       "      <td>0.267000</td>\n",
       "      <td>E</td>\n",
       "      <td>0.1720</td>\n",
       "      <td>-13.509</td>\n",
       "      <td>Major</td>\n",
       "      <td>0.0535</td>\n",
       "      <td>129.995</td>\n",
       "      <td>4/4</td>\n",
       "      <td>0.865</td>\n",
       "      <td>0.987971</td>\n",
       "    </tr>\n",
       "    <tr>\n",
       "      <th>70416</th>\n",
       "      <td>Hip-Hop</td>\n",
       "      <td>Ghostemane</td>\n",
       "      <td>Andromeda</td>\n",
       "      <td>2ggqfj97qyiORmXoVFzP5j</td>\n",
       "      <td>62</td>\n",
       "      <td>0.1520</td>\n",
       "      <td>0.893</td>\n",
       "      <td>121979</td>\n",
       "      <td>0.907</td>\n",
       "      <td>0.031100</td>\n",
       "      <td>B</td>\n",
       "      <td>0.5580</td>\n",
       "      <td>-10.406</td>\n",
       "      <td>Major</td>\n",
       "      <td>0.3670</td>\n",
       "      <td>99.971</td>\n",
       "      <td>4/4</td>\n",
       "      <td>0.302</td>\n",
       "      <td>0.986041</td>\n",
       "    </tr>\n",
       "    <tr>\n",
       "      <th>17090</th>\n",
       "      <td>Dance</td>\n",
       "      <td>Eiffel 65</td>\n",
       "      <td>Blue (Da Ba Dee) - Gabry Ponte Video Edit</td>\n",
       "      <td>7lMIJ4EFWRVoAIPDpeGyM3</td>\n",
       "      <td>58</td>\n",
       "      <td>0.2270</td>\n",
       "      <td>0.829</td>\n",
       "      <td>219618</td>\n",
       "      <td>0.965</td>\n",
       "      <td>0.000131</td>\n",
       "      <td>G</td>\n",
       "      <td>0.4660</td>\n",
       "      <td>-11.498</td>\n",
       "      <td>Minor</td>\n",
       "      <td>0.0597</td>\n",
       "      <td>127.999</td>\n",
       "      <td>4/4</td>\n",
       "      <td>0.729</td>\n",
       "      <td>0.983608</td>\n",
       "    </tr>\n",
       "    <tr>\n",
       "      <th>19458</th>\n",
       "      <td>Dance</td>\n",
       "      <td>Gwen Stefani</td>\n",
       "      <td>Wind It Up</td>\n",
       "      <td>1GeECVH4Msg1zLm8DExkbH</td>\n",
       "      <td>48</td>\n",
       "      <td>0.3350</td>\n",
       "      <td>0.960</td>\n",
       "      <td>189587</td>\n",
       "      <td>0.895</td>\n",
       "      <td>0.000176</td>\n",
       "      <td>C</td>\n",
       "      <td>0.3640</td>\n",
       "      <td>-6.899</td>\n",
       "      <td>Minor</td>\n",
       "      <td>0.0714</td>\n",
       "      <td>120.010</td>\n",
       "      <td>4/4</td>\n",
       "      <td>0.920</td>\n",
       "      <td>0.978824</td>\n",
       "    </tr>\n",
       "    <tr>\n",
       "      <th>88773</th>\n",
       "      <td>Hip-Hop</td>\n",
       "      <td>Juelz Santana</td>\n",
       "      <td>There It Go (The Whistle Song)</td>\n",
       "      <td>50UkypyQJbSQLaXHke5Yep</td>\n",
       "      <td>58</td>\n",
       "      <td>0.0220</td>\n",
       "      <td>0.947</td>\n",
       "      <td>180493</td>\n",
       "      <td>0.883</td>\n",
       "      <td>0.000478</td>\n",
       "      <td>F#</td>\n",
       "      <td>0.4220</td>\n",
       "      <td>-6.306</td>\n",
       "      <td>Minor</td>\n",
       "      <td>0.2080</td>\n",
       "      <td>100.004</td>\n",
       "      <td>4/4</td>\n",
       "      <td>0.560</td>\n",
       "      <td>0.975984</td>\n",
       "    </tr>\n",
       "    <tr>\n",
       "      <th>90614</th>\n",
       "      <td>Hip-Hop</td>\n",
       "      <td>Run–D.M.C.</td>\n",
       "      <td>It's Like That</td>\n",
       "      <td>2J6QnTjHIWwXErNWyF0RUC</td>\n",
       "      <td>53</td>\n",
       "      <td>0.0591</td>\n",
       "      <td>0.964</td>\n",
       "      <td>290280</td>\n",
       "      <td>0.889</td>\n",
       "      <td>0.000000</td>\n",
       "      <td>B</td>\n",
       "      <td>0.1660</td>\n",
       "      <td>-5.169</td>\n",
       "      <td>Major</td>\n",
       "      <td>0.1470</td>\n",
       "      <td>121.144</td>\n",
       "      <td>4/4</td>\n",
       "      <td>0.552</td>\n",
       "      <td>0.975568</td>\n",
       "    </tr>\n",
       "    <tr>\n",
       "      <th>158221</th>\n",
       "      <td>Reggaeton</td>\n",
       "      <td>El Alfa</td>\n",
       "      <td>Lo Tenemo - Remix</td>\n",
       "      <td>3TC1dZ8lFjy6eNqexzdPgL</td>\n",
       "      <td>53</td>\n",
       "      <td>0.3700</td>\n",
       "      <td>0.921</td>\n",
       "      <td>327959</td>\n",
       "      <td>0.933</td>\n",
       "      <td>0.000012</td>\n",
       "      <td>C#</td>\n",
       "      <td>0.8540</td>\n",
       "      <td>-5.046</td>\n",
       "      <td>Major</td>\n",
       "      <td>0.0772</td>\n",
       "      <td>116.015</td>\n",
       "      <td>4/4</td>\n",
       "      <td>0.823</td>\n",
       "      <td>0.975457</td>\n",
       "    </tr>\n",
       "  </tbody>\n",
       "</table>\n",
       "</div>"
      ],
      "text/plain": [
       "            genre        artist_name  \\\n",
       "14419       Dance          Eiffel 65   \n",
       "91802     Hip-Hop        ScHoolboy Q   \n",
       "66904     Hip-Hop              Logic   \n",
       "20981       Dance  Sentidos Opuestos   \n",
       "70416     Hip-Hop         Ghostemane   \n",
       "17090       Dance          Eiffel 65   \n",
       "19458       Dance       Gwen Stefani   \n",
       "88773     Hip-Hop      Juelz Santana   \n",
       "90614     Hip-Hop         Run–D.M.C.   \n",
       "158221  Reggaeton            El Alfa   \n",
       "\n",
       "                                          track_name                track_id  \\\n",
       "14419   Blue (Da Ba Dee) - Gabry Ponte Ice Pop Radio  2yAVzRiEQooPEJ9SYx11L3   \n",
       "91802                                       Big Body  7fQzRNL3k0YUkhTTSuZgcg   \n",
       "66904                                      Everybody  7cGFbx7MP0H23iHZTZpqMM   \n",
       "20981                                  Amor De Papel  6RTlokHIiobtIsthCLm3as   \n",
       "70416                                      Andromeda  2ggqfj97qyiORmXoVFzP5j   \n",
       "17090      Blue (Da Ba Dee) - Gabry Ponte Video Edit  7lMIJ4EFWRVoAIPDpeGyM3   \n",
       "19458                                     Wind It Up  1GeECVH4Msg1zLm8DExkbH   \n",
       "88773                 There It Go (The Whistle Song)  50UkypyQJbSQLaXHke5Yep   \n",
       "90614                                 It's Like That  2J6QnTjHIWwXErNWyF0RUC   \n",
       "158221                             Lo Tenemo - Remix  3TC1dZ8lFjy6eNqexzdPgL   \n",
       "\n",
       "        popularity  acousticness  danceability  duration_ms  energy  \\\n",
       "14419           73        0.2590         0.822       283748   0.969   \n",
       "91802           49        0.0724         0.944       223360   0.949   \n",
       "66904           74        0.1580         0.885       162347   0.940   \n",
       "20981           60        0.2350         0.827       248227   0.951   \n",
       "70416           62        0.1520         0.893       121979   0.907   \n",
       "17090           58        0.2270         0.829       219618   0.965   \n",
       "19458           48        0.3350         0.960       189587   0.895   \n",
       "88773           58        0.0220         0.947       180493   0.883   \n",
       "90614           53        0.0591         0.964       290280   0.889   \n",
       "158221          53        0.3700         0.921       327959   0.933   \n",
       "\n",
       "        instrumentalness key  liveness  loudness   mode  speechiness    tempo  \\\n",
       "14419           0.000162   G    0.3900   -11.471  Minor       0.0582  128.007   \n",
       "91802           0.000000  C#    0.3480    -5.606  Minor       0.1900  116.012   \n",
       "66904           0.000000  C#    0.0675    -5.908  Major       0.0909  110.005   \n",
       "20981           0.267000   E    0.1720   -13.509  Major       0.0535  129.995   \n",
       "70416           0.031100   B    0.5580   -10.406  Major       0.3670   99.971   \n",
       "17090           0.000131   G    0.4660   -11.498  Minor       0.0597  127.999   \n",
       "19458           0.000176   C    0.3640    -6.899  Minor       0.0714  120.010   \n",
       "88773           0.000478  F#    0.4220    -6.306  Minor       0.2080  100.004   \n",
       "90614           0.000000   B    0.1660    -5.169  Major       0.1470  121.144   \n",
       "158221          0.000012  C#    0.8540    -5.046  Major       0.0772  116.015   \n",
       "\n",
       "       time_signature  valence      club  \n",
       "14419             4/4    0.765  1.000000  \n",
       "91802             4/4    0.763  0.992027  \n",
       "66904             4/4    0.770  0.990839  \n",
       "20981             4/4    0.865  0.987971  \n",
       "70416             4/4    0.302  0.986041  \n",
       "17090             4/4    0.729  0.983608  \n",
       "19458             4/4    0.920  0.978824  \n",
       "88773             4/4    0.560  0.975984  \n",
       "90614             4/4    0.552  0.975568  \n",
       "158221            4/4    0.823  0.975457  "
      ]
     },
     "execution_count": 15,
     "metadata": {},
     "output_type": "execute_result"
    }
   ],
   "source": [
    "sp.loc[:, 'club'] = sp['danceability'] + sp['energy'] - sp['loudness'] / 100 + sp['popularity'] / 400\n",
    "benchmark = max(sp['club'])\n",
    "sp['club'] = sp['club'].apply(lambda x: x / benchmark)\n",
    "sp.drop_duplicates(subset=['track_id']).sort_values('club', ascending = False).head(10)"
   ]
  },
  {
   "cell_type": "raw",
   "id": "33b5d277-2634-4b77-bf65-6b2d40720caa",
   "metadata": {},
   "source": [
    "Добавим столбец, показывающий, насколько трек подходит для клубов\n",
    "Делим loudness на 100, чтобы вместе с danceability и energy имели одинаковый вес\n",
    "Накидываем несколько поинтов за popularity\n",
    "Уже за песню на первом месте, можно сказать, что формула составлена великолепно"
   ]
  },
  {
   "cell_type": "markdown",
   "id": "figured-arnold",
   "metadata": {
    "id": "figured-arnold"
   },
   "source": [
    "# 2. Интерполяция кривой\n",
    "\n",
    "Сгенерируйте от 5 до 20 точек со случайными разными координатами (x, y), расположите их на координатной плоскости\n",
    "\n",
    "1. С помощью библиотеки scipy примените один из её [алгоритмов интерполяции](https://docs.scipy.org/doc/scipy/reference/interpolate.html) к сгенерированным данным\n",
    "1. Изучите математический подход метод выбранного алгоритма интерполяции в scipy. Найдите и продемонстрируйте при сдаче реализацию метода в исходном коде библиотеки scipy. Найти можно в [github репозитории проекта](https://github.com/scipy/scipy)\n",
    "1. Выберите среди методов интерполяции в scipy любой другой метод интерполяции (кроме линейной интерполяций). Реализуйте выбранный метод без использования сторонних библиотек. Разрешается использовать numpy для упрощения математичеких вычислений\n",
    "1. Визуализируйте кривую интерполяции библиотечного и вашего алгоритмов с помощью  matplotlib. Сравните качество интерполяции своего и библиотечного методов, объясните разницу в качестве"
   ]
  },
  {
   "cell_type": "code",
   "execution_count": 16,
   "id": "DZGQyXYM_TiH",
   "metadata": {
    "colab": {
     "base_uri": "https://localhost:8080/",
     "height": 265
    },
    "id": "DZGQyXYM_TiH",
    "outputId": "37a77122-4219-4aab-a922-4e81739d4efb"
   },
   "outputs": [
    {
     "data": {
      "image/png": "[encoded data removed]",
      "text/plain": [
       "<Figure size 432x288 with 1 Axes>"
      ]
     },
     "metadata": {
      "needs_background": "light"
     },
     "output_type": "display_data"
    }
   ],
   "source": [
    "x_coord = np.random.rand(12) * 100\n",
    "y_coord = np.random.rand(12) * 100\n",
    "plt.plot(x_coord, y_coord, 'o', color='#91131f');"
   ]
  },
  {
   "cell_type": "code",
   "execution_count": 17,
   "id": "0fe573e5",
   "metadata": {},
   "outputs": [
    {
     "data": {
      "image/png": "[encoded data removed]",
      "text/plain": [
       "<Figure size 432x288 with 1 Axes>"
      ]
     },
     "metadata": {
      "needs_background": "light"
     },
     "output_type": "display_data"
    }
   ],
   "source": [
    "from scipy import interpolate\n",
    "f = interpolate.interp1d(x_coord, y_coord, kind = 'linear')\n",
    "newx = np.linspace(min(x_coord), max(x_coord), num = 1000)\n",
    "ynew = f(newx)\n",
    "plt.plot(x_coord, y_coord, 'o', newx, ynew, '-')\n",
    "plt.show()"
   ]
  },
  {
   "cell_type": "code",
   "execution_count": 18,
   "id": "8a871f30",
   "metadata": {},
   "outputs": [],
   "source": [
    "def lagrange(X, Y):\n",
    "    def mul(xi, x):\n",
    "        ans = 1\n",
    "        for _x in X:\n",
    "            if (_x != xi):\n",
    "                ans *= (x - _x)\n",
    "                ans /= (xi - _x)\n",
    "        return ans\n",
    "    def f(x):\n",
    "        res = 0\n",
    "        for i, xi in enumerate(X):\n",
    "            res += Y[i] * mul(xi, x)\n",
    "        return res\n",
    "    return f"
   ]
  },
  {
   "cell_type": "code",
   "execution_count": 19,
   "id": "5bb29e26",
   "metadata": {},
   "outputs": [
    {
     "data": {
      "image/png": "[encoded data removed]",
      "text/plain": [
       "<Figure size 576x576 with 1 Axes>"
      ]
     },
     "metadata": {
      "needs_background": "light"
     },
     "output_type": "display_data"
    }
   ],
   "source": [
    "plt.figure(figsize = (8,8))\n",
    "f = lagrange(x_coord, y_coord)\n",
    "g = interpolate.lagrange(x_coord, y_coord)\n",
    "plt.plot(x_coord, y_coord, 'o', newx, f(newx), '-', newx, g(newx), '--')\n",
    "plt.show()"
   ]
  },
  {
   "cell_type": "markdown",
   "id": "alleged-tooth",
   "metadata": {
    "id": "alleged-tooth"
   },
   "source": [
    "# 3. Быстрая гистограмма\n",
    "\n",
    "Иногда хочется получить дискретное распределение из N колонок. Но пока что для этого у нас есть только plt.hist(), которая тратит много времени на отрисовку графика. Вам предлагается реализовать свою функцию построения дискретного распределения\n",
    "\n",
    "1. Алгоритм должен получать на вход список чисел и количество колонок гистограммы. Возвращать нужно значения столбцов (ось абсцисс гистограммы) и количество значений, принадлежащее столбцу (ось ординат гистограммы). Пример с использованием plt показан ниже, сигнатура функции также показана ниже\n",
    "1. Изучите функцию [plt.bar](https://matplotlib.org/stable/api/_as_gen/matplotlib.pyplot.bar.html). Это такая же гистограмма как plt.hist, но в отличие от hist требуется явно указывать высоту колонок и их название\n",
    "1. С помощью результатов своего алгоритма и plt.bar постройте гистограмму по массиву из 50+ случайных чисел. Графики plt.bar по вашему алгоритму и plt.hist() должны совпадать, что подтвердит корректность работы вашего алгоритма\n",
    "1. Сравните скорость построения распределения по массиву чисел с помощью своего алгоритма и с помощью plt.hist. В jupyter рекомендуется использовать built-in magic commands, а именно timeit. Но можно обойтись и ручными измерениями времени выполнения"
   ]
  },
  {
   "cell_type": "code",
   "execution_count": 20,
   "id": "harmful-settle",
   "metadata": {
    "colab": {
     "base_uri": "https://localhost:8080/",
     "height": 299
    },
    "id": "harmful-settle",
    "outputId": "e2c746f5-e8e8-4f2a-d975-70bac240e86e"
   },
   "outputs": [
    {
     "name": "stdout",
     "output_type": "stream",
     "text": [
      "Значения колонок: [3. 2. 2. 2.]\n",
      "Названия колонок: [1.   1.75 2.5  3.25 4.  ]\n"
     ]
    },
    {
     "data": {
      "image/png": "[encoded data removed]",
      "text/plain": [
       "<Figure size 432x288 with 1 Axes>"
      ]
     },
     "metadata": {
      "needs_background": "light"
     },
     "output_type": "display_data"
    }
   ],
   "source": [
    "# Пример гистограммы с помощью plt.hist()\n",
    "import matplotlib.pyplot as plt\n",
    "\n",
    "array = [1,1,2,3,4,1,2,3,4]\n",
    "\n",
    "value_counts, bins_names, visual_figure = plt.hist(array, \n",
    "                                                   bins=len(set(array)), \n",
    "                                                   rwidth=0.9)\n",
    "# Параметр rwidth и визуализацию в своей функции реализовывать не требуется\n",
    "print('Значения колонок:', value_counts)\n",
    "print('Названия колонок:', bins_names)"
   ]
  },
  {
   "cell_type": "code",
   "execution_count": 21,
   "id": "parliamentary-worker",
   "metadata": {
    "id": "parliamentary-worker"
   },
   "outputs": [],
   "source": [
    "from typing import List, Tuple, Union\n",
    "\n",
    "def fast_hist(array: List[Union[int, float]], \n",
    "              bins: int) -> Tuple[List[int], List[float]]:\n",
    "    \"\"\"\n",
    "    Builds bins' labels and bins' value counts for given array\n",
    "    :param array: array with numeric values\n",
    "    :param bins:  number of bins in result distribution\n",
    "    :return: Two lists: \n",
    "             first contains value counts of each bin,\n",
    "             second contains list of bins' labels\n",
    "    \"\"\"\n",
    "    maximim = max(array)\n",
    "    minimum = min(array)\n",
    "    step = (maximim - minimum) / bins\n",
    "    count = [0] * bins\n",
    "    for i in array:\n",
    "      count[min(int((i - minimum) / step) , bins - 1)] += 1\n",
    "    return (count, np.arange(minimum, maximim, step))"
   ]
  },
  {
   "cell_type": "code",
   "execution_count": 22,
   "id": "6q06mHkQF67J",
   "metadata": {
    "colab": {
     "base_uri": "https://localhost:8080/",
     "height": 249
    },
    "id": "6q06mHkQF67J",
    "outputId": "9ae3f1e6-17f6-4638-bd7f-24d53dd2eff9",
    "scrolled": true
   },
   "outputs": [
    {
     "data": {
      "image/png": "[encoded data removed]",
      "text/plain": [
       "<Figure size 432x288 with 1 Axes>"
      ]
     },
     "metadata": {
      "needs_background": "light"
     },
     "output_type": "display_data"
    }
   ],
   "source": [
    "import random\n",
    "ar = [random.randint(1, 100) for _ in range(1000)]\n",
    "value_counts, bins_names, visual_figure = plt.hist(ar, 200)"
   ]
  },
  {
   "cell_type": "code",
   "execution_count": 23,
   "id": "3f68938d",
   "metadata": {},
   "outputs": [
    {
     "data": {
      "text/plain": [
       "<BarContainer object of 200 artists>"
      ]
     },
     "execution_count": 23,
     "metadata": {},
     "output_type": "execute_result"
    },
    {
     "data": {
      "image/png": "[encoded data removed]",
      "text/plain": [
       "<Figure size 432x288 with 1 Axes>"
      ]
     },
     "metadata": {
      "needs_background": "light"
     },
     "output_type": "display_data"
    }
   ],
   "source": [
    "counts, names = fast_hist(ar, 200)\n",
    "plt.bar(names, counts, width = 0.6)"
   ]
  },
  {
   "cell_type": "code",
   "execution_count": 24,
   "id": "a55d4c10",
   "metadata": {},
   "outputs": [
    {
     "name": "stdout",
     "output_type": "stream",
     "text": [
      "122 ms ± 9.12 ms per loop (mean ± std. dev. of 7 runs, 10 loops each)\n",
      "429 µs ± 13.9 µs per loop (mean ± std. dev. of 7 runs, 1000 loops each)\n"
     ]
    },
    {
     "data": {
      "image/png": "[encoded data removed]",
      "text/plain": [
       "<Figure size 432x288 with 1 Axes>"
      ]
     },
     "metadata": {
      "needs_background": "light"
     },
     "output_type": "display_data"
    }
   ],
   "source": [
    "%timeit plt.hist(ar, 200)\n",
    "%timeit fast_hist(ar, 200)"
   ]
  },
  {
   "cell_type": "code",
   "execution_count": null,
   "id": "73e440a4",
   "metadata": {},
   "outputs": [],
   "source": []
  }
 ],
 "metadata": {
  "colab": {
   "name": "Lab-1.ipynb",
   "provenance": []
  },
  "kernelspec": {
   "display_name": "Python 3 (ipykernel)",
   "language": "python",
   "name": "python3"
  },
  "language_info": {
   "codemirror_mode": {
    "name": "ipython",
    "version": 3
   },
   "file_extension": ".py",
   "mimetype": "text/x-python",
   "name": "python",
   "nbconvert_exporter": "python",
   "pygments_lexer": "ipython3",
   "version": "3.9.5"
  }
 },
 "nbformat": 4,
 "nbformat_minor": 5
}
