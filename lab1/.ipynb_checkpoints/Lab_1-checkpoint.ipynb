{
 "cells": [
  {
   "cell_type": "markdown",
   "id": "absent-counter",
   "metadata": {
    "id": "absent-counter"
   },
   "source": [
    "# 1. Предобработка\n",
    "\n",
    "\n",
    "Выберите набор данных из списка в конце задания. Обработайте данные в нём:\n",
    "\n",
    "1. Обработайте недостающие данные в датасете - удалить/заменить/etc, обоснуйте своё решение\n",
    "1. Постройте как минимум по 1 графику каждого типа из представленных на лекции. Для каждого построенного графика объясните почему отображённые данные лучше всего представимы именно этим типом графика\n",
    "1. Сохраните датасет\n",
    "\n",
    "\n",
    "1. Создайте новую колонку, отображающую характеристику набора данных. Новая колонка должна обладать смысловой нагрузкой. \n",
    "\n",
    "    Например, для набора данных о прямоугольниках с двумя колонками width и height будет корректно придумать колонку square, равную width * height или perimeter Некорректно будет придумать колонку width2, равную width * 2, потому что эта информация не будет нести полезную информацию о фигурах\n",
    "\n",
    "Не оценивается баллами, но даёт очки уважения:\n",
    "1. Выдвиньте 2 гипотезы о данных. Например, для датасета codeforces достаточно интересной гипотезой может быть \"простые задачи (рейтинг меньше 1500) почти всегда решаются больше 5000 раз\"\n",
    "\n",
    "\n",
    "Наборы данных:\n",
    "\n",
    "1. [Spotify Tracks DB](https://www.kaggle.com/zaheenhamidani/ultimate-spotify-tracks-db) - характеристики треков в spotify\n",
    "1. [VKontakte Dataset of Users' Textual Data](https://www.kaggle.com/oldaandozerskaya/vkontakte-dataset-of-users-textual-data) 1. основная информация 10к профилей ВК\n",
    "1. [Data Science for COVID-19](https://www.kaggle.com/kimjihoo/coronavirusdataset) - информация о распространении коронавируса в Южной Корее в 2020 году\n",
    "1. [Dota 2 - Pro Players Matches Results 2019 ~ 2021](https://www.kaggle.com/devinanzelmo/dota-2-matches?select=player_ratings.csv) - информация матчей игроков DoTA 2. Если данные не влезают в память, можно воспользоваться [аналогом pandas](https://dask.org/) для обработки вне RAM\n",
    "1. [GPS Data of Seabirds](https://www.kaggle.com/saurabhshahane/predicting-animal-behavior-using-gps) - данные о миграции птиц\n",
    "1. [FAANG Historical Stock Price Data](https://www.kaggle.com/specter7/amazon-amzn-historical-stock-price-data) -  данные о биржевых котировках компаний FAANG c 2016 по 2021 год\n",
    "1. [NBA 2k20 player dataset](https://www.kaggle.com/isaienkov/nba2k20-player-dataset) - информация об игроках NBA\n",
    " [Anime dataset](https://www.kaggle.com/thunderz/anime-dataset?select=user_data.csv) - данные о просмотре аниме пользователями с сайта myAnimeList"
   ]
  },
  {
   "cell_type": "code",
   "execution_count": 7,
   "id": "s7kSIOhnuJUF",
   "metadata": {
    "id": "s7kSIOhnuJUF"
   },
   "outputs": [],
   "source": [
    "import pandas as pd\n",
    "import matplotlib.pyplot as plt\n",
    "import numpy as np\n",
    "sp = pd.read_csv('/content/drive/MyDrive/lab1_da/SpotifyFeatures.csv')"
   ]
  },
  {
   "cell_type": "code",
   "execution_count": 13,
   "id": "OBEv05G17XwS",
   "metadata": {
    "colab": {
     "base_uri": "https://localhost:8080/"
    },
    "id": "OBEv05G17XwS",
    "outputId": "27866b0e-0beb-46c8-f0cb-4a72782d902c"
   },
   "outputs": [
    {
     "name": "stdout",
     "output_type": "stream",
     "text": [
      "<class 'pandas.core.frame.DataFrame'>\n",
      "RangeIndex: 232725 entries, 0 to 232724\n",
      "Data columns (total 18 columns):\n",
      " #   Column            Non-Null Count   Dtype  \n",
      "---  ------            --------------   -----  \n",
      " 0   genre             232725 non-null  object \n",
      " 1   artist_name       232725 non-null  object \n",
      " 2   track_name        232725 non-null  object \n",
      " 3   track_id          232725 non-null  object \n",
      " 4   popularity        232725 non-null  int64  \n",
      " 5   acousticness      232725 non-null  float64\n",
      " 6   danceability      232725 non-null  float64\n",
      " 7   duration_ms       232725 non-null  int64  \n",
      " 8   energy            232725 non-null  float64\n",
      " 9   instrumentalness  232725 non-null  float64\n",
      " 10  key               232725 non-null  object \n",
      " 11  liveness          232725 non-null  float64\n",
      " 12  loudness          232725 non-null  float64\n",
      " 13  mode              232725 non-null  object \n",
      " 14  speechiness       232725 non-null  float64\n",
      " 15  tempo             232725 non-null  float64\n",
      " 16  time_signature    232725 non-null  object \n",
      " 17  valence           232725 non-null  float64\n",
      "dtypes: float64(9), int64(2), object(7)\n",
      "memory usage: 32.0+ MB\n"
     ]
    }
   ],
   "source": [
    "sp.info()"
   ]
  },
  {
   "cell_type": "code",
   "execution_count": 12,
   "id": "bRVQC8qs80gi",
   "metadata": {
    "colab": {
     "base_uri": "https://localhost:8080/"
    },
    "id": "bRVQC8qs80gi",
    "outputId": "5280773d-4417-476a-9609-58195f7bb625"
   },
   "outputs": [
    {
     "data": {
      "text/plain": [
       "(232725, 18)"
      ]
     },
     "execution_count": 12,
     "metadata": {},
     "output_type": "execute_result"
    }
   ],
   "source": [
    "sp.shape"
   ]
  },
  {
   "cell_type": "code",
   "execution_count": 13,
   "id": "PwD43JLl89A-",
   "metadata": {
    "colab": {
     "base_uri": "https://localhost:8080/",
     "height": 317
    },
    "id": "PwD43JLl89A-",
    "outputId": "9883b13e-05f3-4f0f-fb82-9fd023d54dc7"
   },
   "outputs": [
    {
     "data": {
      "text/html": [
       "<div>\n",
       "<style scoped>\n",
       "    .dataframe tbody tr th:only-of-type {\n",
       "        vertical-align: middle;\n",
       "    }\n",
       "\n",
       "    .dataframe tbody tr th {\n",
       "        vertical-align: top;\n",
       "    }\n",
       "\n",
       "    .dataframe thead th {\n",
       "        text-align: right;\n",
       "    }\n",
       "</style>\n",
       "<table border=\"1\" class=\"dataframe\">\n",
       "  <thead>\n",
       "    <tr style=\"text-align: right;\">\n",
       "      <th></th>\n",
       "      <th>popularity</th>\n",
       "      <th>acousticness</th>\n",
       "      <th>danceability</th>\n",
       "      <th>duration_ms</th>\n",
       "      <th>energy</th>\n",
       "      <th>instrumentalness</th>\n",
       "      <th>liveness</th>\n",
       "      <th>loudness</th>\n",
       "      <th>speechiness</th>\n",
       "      <th>tempo</th>\n",
       "      <th>valence</th>\n",
       "    </tr>\n",
       "  </thead>\n",
       "  <tbody>\n",
       "    <tr>\n",
       "      <th>count</th>\n",
       "      <td>232725.000000</td>\n",
       "      <td>232725.000000</td>\n",
       "      <td>232725.000000</td>\n",
       "      <td>2.327250e+05</td>\n",
       "      <td>232725.000000</td>\n",
       "      <td>232725.000000</td>\n",
       "      <td>232725.000000</td>\n",
       "      <td>232725.000000</td>\n",
       "      <td>232725.000000</td>\n",
       "      <td>232725.000000</td>\n",
       "      <td>232725.000000</td>\n",
       "    </tr>\n",
       "    <tr>\n",
       "      <th>mean</th>\n",
       "      <td>41.127502</td>\n",
       "      <td>0.368560</td>\n",
       "      <td>0.554364</td>\n",
       "      <td>2.351223e+05</td>\n",
       "      <td>0.570958</td>\n",
       "      <td>0.148301</td>\n",
       "      <td>0.215009</td>\n",
       "      <td>-9.569885</td>\n",
       "      <td>0.120765</td>\n",
       "      <td>117.666585</td>\n",
       "      <td>0.454917</td>\n",
       "    </tr>\n",
       "    <tr>\n",
       "      <th>std</th>\n",
       "      <td>18.189948</td>\n",
       "      <td>0.354768</td>\n",
       "      <td>0.185608</td>\n",
       "      <td>1.189359e+05</td>\n",
       "      <td>0.263456</td>\n",
       "      <td>0.302768</td>\n",
       "      <td>0.198273</td>\n",
       "      <td>5.998204</td>\n",
       "      <td>0.185518</td>\n",
       "      <td>30.898907</td>\n",
       "      <td>0.260065</td>\n",
       "    </tr>\n",
       "    <tr>\n",
       "      <th>min</th>\n",
       "      <td>0.000000</td>\n",
       "      <td>0.000000</td>\n",
       "      <td>0.056900</td>\n",
       "      <td>1.538700e+04</td>\n",
       "      <td>0.000020</td>\n",
       "      <td>0.000000</td>\n",
       "      <td>0.009670</td>\n",
       "      <td>-52.457000</td>\n",
       "      <td>0.022200</td>\n",
       "      <td>30.379000</td>\n",
       "      <td>0.000000</td>\n",
       "    </tr>\n",
       "    <tr>\n",
       "      <th>25%</th>\n",
       "      <td>29.000000</td>\n",
       "      <td>0.037600</td>\n",
       "      <td>0.435000</td>\n",
       "      <td>1.828570e+05</td>\n",
       "      <td>0.385000</td>\n",
       "      <td>0.000000</td>\n",
       "      <td>0.097400</td>\n",
       "      <td>-11.771000</td>\n",
       "      <td>0.036700</td>\n",
       "      <td>92.959000</td>\n",
       "      <td>0.237000</td>\n",
       "    </tr>\n",
       "    <tr>\n",
       "      <th>50%</th>\n",
       "      <td>43.000000</td>\n",
       "      <td>0.232000</td>\n",
       "      <td>0.571000</td>\n",
       "      <td>2.204270e+05</td>\n",
       "      <td>0.605000</td>\n",
       "      <td>0.000044</td>\n",
       "      <td>0.128000</td>\n",
       "      <td>-7.762000</td>\n",
       "      <td>0.050100</td>\n",
       "      <td>115.778000</td>\n",
       "      <td>0.444000</td>\n",
       "    </tr>\n",
       "    <tr>\n",
       "      <th>75%</th>\n",
       "      <td>55.000000</td>\n",
       "      <td>0.722000</td>\n",
       "      <td>0.692000</td>\n",
       "      <td>2.657680e+05</td>\n",
       "      <td>0.787000</td>\n",
       "      <td>0.035800</td>\n",
       "      <td>0.264000</td>\n",
       "      <td>-5.501000</td>\n",
       "      <td>0.105000</td>\n",
       "      <td>139.054000</td>\n",
       "      <td>0.660000</td>\n",
       "    </tr>\n",
       "    <tr>\n",
       "      <th>max</th>\n",
       "      <td>100.000000</td>\n",
       "      <td>0.996000</td>\n",
       "      <td>0.989000</td>\n",
       "      <td>5.552917e+06</td>\n",
       "      <td>0.999000</td>\n",
       "      <td>0.999000</td>\n",
       "      <td>1.000000</td>\n",
       "      <td>3.744000</td>\n",
       "      <td>0.967000</td>\n",
       "      <td>242.903000</td>\n",
       "      <td>1.000000</td>\n",
       "    </tr>\n",
       "  </tbody>\n",
       "</table>\n",
       "</div>"
      ],
      "text/plain": [
       "          popularity   acousticness  ...          tempo        valence\n",
       "count  232725.000000  232725.000000  ...  232725.000000  232725.000000\n",
       "mean       41.127502       0.368560  ...     117.666585       0.454917\n",
       "std        18.189948       0.354768  ...      30.898907       0.260065\n",
       "min         0.000000       0.000000  ...      30.379000       0.000000\n",
       "25%        29.000000       0.037600  ...      92.959000       0.237000\n",
       "50%        43.000000       0.232000  ...     115.778000       0.444000\n",
       "75%        55.000000       0.722000  ...     139.054000       0.660000\n",
       "max       100.000000       0.996000  ...     242.903000       1.000000\n",
       "\n",
       "[8 rows x 11 columns]"
      ]
     },
     "execution_count": 13,
     "metadata": {},
     "output_type": "execute_result"
    }
   ],
   "source": [
    "sp.describe()"
   ]
  },
  {
   "cell_type": "code",
   "execution_count": 21,
   "id": "idZie_-BsAcx",
   "metadata": {
    "colab": {
     "base_uri": "https://localhost:8080/"
    },
    "id": "idZie_-BsAcx",
    "outputId": "244341af-0199-4fc1-c74f-3c77f099a7af"
   },
   "outputs": [
    {
     "data": {
      "text/plain": [
       "danceability    0\n",
       "energy          0\n",
       "speechiness     0\n",
       "acousticness    0\n",
       "liveness        0\n",
       "valence         0\n",
       "dtype: int64"
      ]
     },
     "execution_count": 21,
     "metadata": {},
     "output_type": "execute_result"
    }
   ],
   "source": [
    "sp.isna().sum()"
   ]
  },
  {
   "cell_type": "code",
   "execution_count": 4,
   "id": "gDv1D1res9E6",
   "metadata": {
    "colab": {
     "base_uri": "https://localhost:8080/",
     "height": 623
    },
    "id": "gDv1D1res9E6",
    "outputId": "d9fd0095-9c7a-458d-d134-c8daaca6b612"
   },
   "outputs": [
    {
     "data": {
      "text/plain": [
       "<BarContainer object of 26 artists>"
      ]
     },
     "execution_count": 4,
     "metadata": {},
     "output_type": "execute_result"
    },
    {
     "data": {
      "image/png": "[encoded data removed]",
      "text/plain": [
       "<Figure size 720x720 with 1 Axes>"
      ]
     },
     "metadata": {
      "needs_background": "light"
     },
     "output_type": "display_data"
    }
   ],
   "source": [
    "plt.figure(figsize = (10,10))\n",
    "genres = sp[sp['popularity'] > 50]['genre'].value_counts()\n",
    "plt.xlabel('Number of songs with popularity over 50')\n",
    "plt.ylabel('Genre')\n",
    "plt.barh(genres.index, genres, color='#91131f')"
   ]
  },
  {
   "cell_type": "code",
   "execution_count": 27,
   "id": "R5gImKH4jFPe",
   "metadata": {
    "colab": {
     "base_uri": "https://localhost:8080/",
     "height": 411
    },
    "id": "R5gImKH4jFPe",
    "outputId": "c6a1b398-3e3a-4f0f-8574-d674691a587c"
   },
   "outputs": [
    {
     "data": {
      "text/html": [
       "<div>\n",
       "<style scoped>\n",
       "    .dataframe tbody tr th:only-of-type {\n",
       "        vertical-align: middle;\n",
       "    }\n",
       "\n",
       "    .dataframe tbody tr th {\n",
       "        vertical-align: top;\n",
       "    }\n",
       "\n",
       "    .dataframe thead th {\n",
       "        text-align: right;\n",
       "    }\n",
       "</style>\n",
       "<table border=\"1\" class=\"dataframe\">\n",
       "  <thead>\n",
       "    <tr style=\"text-align: right;\">\n",
       "      <th></th>\n",
       "      <th>genre</th>\n",
       "      <th>artist_name</th>\n",
       "      <th>track_name</th>\n",
       "      <th>track_id</th>\n",
       "      <th>popularity</th>\n",
       "      <th>acousticness</th>\n",
       "      <th>danceability</th>\n",
       "      <th>duration_ms</th>\n",
       "      <th>energy</th>\n",
       "      <th>instrumentalness</th>\n",
       "      <th>key</th>\n",
       "      <th>liveness</th>\n",
       "      <th>loudness</th>\n",
       "      <th>mode</th>\n",
       "      <th>speechiness</th>\n",
       "      <th>tempo</th>\n",
       "      <th>time_signature</th>\n",
       "      <th>valence</th>\n",
       "      <th>good_for_club</th>\n",
       "      <th>club_music</th>\n",
       "    </tr>\n",
       "  </thead>\n",
       "  <tbody>\n",
       "    <tr>\n",
       "      <th>77052</th>\n",
       "      <td>Children’s Music</td>\n",
       "      <td>Joji</td>\n",
       "      <td>SLOW DANCING IN THE DARK</td>\n",
       "      <td>0rKtyWc8bvkriBthvHKY8d</td>\n",
       "      <td>84</td>\n",
       "      <td>0.5440</td>\n",
       "      <td>0.515</td>\n",
       "      <td>209274</td>\n",
       "      <td>0.479</td>\n",
       "      <td>0.005980</td>\n",
       "      <td>D#</td>\n",
       "      <td>0.191</td>\n",
       "      <td>-7.458</td>\n",
       "      <td>Major</td>\n",
       "      <td>0.0261</td>\n",
       "      <td>88.964</td>\n",
       "      <td>4/4</td>\n",
       "      <td>0.284</td>\n",
       "      <td>0.486244</td>\n",
       "      <td>0.548254</td>\n",
       "    </tr>\n",
       "    <tr>\n",
       "      <th>77054</th>\n",
       "      <td>Children’s Music</td>\n",
       "      <td>H.E.R.</td>\n",
       "      <td>Best Part (feat. Daniel Caesar)</td>\n",
       "      <td>4OBZT9EnhYIV17t4pGw7ig</td>\n",
       "      <td>84</td>\n",
       "      <td>0.7950</td>\n",
       "      <td>0.473</td>\n",
       "      <td>209400</td>\n",
       "      <td>0.371</td>\n",
       "      <td>0.000000</td>\n",
       "      <td>E</td>\n",
       "      <td>0.109</td>\n",
       "      <td>-10.219</td>\n",
       "      <td>Minor</td>\n",
       "      <td>0.0405</td>\n",
       "      <td>75.208</td>\n",
       "      <td>4/4</td>\n",
       "      <td>0.413</td>\n",
       "      <td>0.412013</td>\n",
       "      <td>0.485460</td>\n",
       "    </tr>\n",
       "    <tr>\n",
       "      <th>77073</th>\n",
       "      <td>Children’s Music</td>\n",
       "      <td>Linkin Park</td>\n",
       "      <td>In The End</td>\n",
       "      <td>60a0Rd6pjrkxjPbaKzXjfq</td>\n",
       "      <td>84</td>\n",
       "      <td>0.0103</td>\n",
       "      <td>0.542</td>\n",
       "      <td>216933</td>\n",
       "      <td>0.853</td>\n",
       "      <td>0.000000</td>\n",
       "      <td>D#</td>\n",
       "      <td>0.108</td>\n",
       "      <td>-6.407</td>\n",
       "      <td>Minor</td>\n",
       "      <td>0.0498</td>\n",
       "      <td>105.256</td>\n",
       "      <td>4/4</td>\n",
       "      <td>0.370</td>\n",
       "      <td>0.631814</td>\n",
       "      <td>0.748602</td>\n",
       "    </tr>\n",
       "    <tr>\n",
       "      <th>77217</th>\n",
       "      <td>Children’s Music</td>\n",
       "      <td>ChocQuibTown</td>\n",
       "      <td>Pa Olvidarte (feat. Manuel Turizo) - Remix</td>\n",
       "      <td>2ktoFujjJtantyMoVdBJlX</td>\n",
       "      <td>85</td>\n",
       "      <td>0.0441</td>\n",
       "      <td>0.724</td>\n",
       "      <td>256418</td>\n",
       "      <td>0.791</td>\n",
       "      <td>0.000007</td>\n",
       "      <td>G</td>\n",
       "      <td>0.239</td>\n",
       "      <td>-5.411</td>\n",
       "      <td>Major</td>\n",
       "      <td>0.1690</td>\n",
       "      <td>176.011</td>\n",
       "      <td>4/4</td>\n",
       "      <td>0.856</td>\n",
       "      <td>0.845438</td>\n",
       "      <td>0.805060</td>\n",
       "    </tr>\n",
       "    <tr>\n",
       "      <th>77053</th>\n",
       "      <td>Children’s Music</td>\n",
       "      <td>YUNGBLUD</td>\n",
       "      <td>11 Minutes (with Halsey feat. Travis Barker)</td>\n",
       "      <td>4mGdjNMo0RonTlOEb7cYg4</td>\n",
       "      <td>86</td>\n",
       "      <td>0.0116</td>\n",
       "      <td>0.464</td>\n",
       "      <td>239507</td>\n",
       "      <td>0.852</td>\n",
       "      <td>0.000000</td>\n",
       "      <td>B</td>\n",
       "      <td>0.108</td>\n",
       "      <td>-3.804</td>\n",
       "      <td>Major</td>\n",
       "      <td>0.0670</td>\n",
       "      <td>160.075</td>\n",
       "      <td>4/4</td>\n",
       "      <td>0.233</td>\n",
       "      <td>0.752931</td>\n",
       "      <td>0.694714</td>\n",
       "    </tr>\n",
       "  </tbody>\n",
       "</table>\n",
       "</div>"
      ],
      "text/plain": [
       "                  genre   artist_name  ... good_for_club club_music\n",
       "77052  Children’s Music          Joji  ...      0.486244   0.548254\n",
       "77054  Children’s Music        H.E.R.  ...      0.412013   0.485460\n",
       "77073  Children’s Music   Linkin Park  ...      0.631814   0.748602\n",
       "77217  Children’s Music  ChocQuibTown  ...      0.845438   0.805060\n",
       "77053  Children’s Music      YUNGBLUD  ...      0.752931   0.694714\n",
       "\n",
       "[5 rows x 20 columns]"
      ]
     },
     "execution_count": 27,
     "metadata": {},
     "output_type": "execute_result"
    }
   ],
   "source": [
    "sp.sort_values('popularity').loc[(sp['genre'] == 'Children’s Music')].tail()"
   ]
  },
  {
   "cell_type": "code",
   "execution_count": null,
   "id": "MN9ioMuJyGwr",
   "metadata": {
    "colab": {
     "base_uri": "https://localhost:8080/",
     "height": 117
    },
    "id": "MN9ioMuJyGwr",
    "outputId": "a3f6ed23-458d-439e-9792-f45de6af5c92"
   },
   "outputs": [
    {
     "data": {
      "text/html": [
       "<div>\n",
       "<style scoped>\n",
       "    .dataframe tbody tr th:only-of-type {\n",
       "        vertical-align: middle;\n",
       "    }\n",
       "\n",
       "    .dataframe tbody tr th {\n",
       "        vertical-align: top;\n",
       "    }\n",
       "\n",
       "    .dataframe thead th {\n",
       "        text-align: right;\n",
       "    }\n",
       "</style>\n",
       "<table border=\"1\" class=\"dataframe\">\n",
       "  <thead>\n",
       "    <tr style=\"text-align: right;\">\n",
       "      <th></th>\n",
       "      <th>genre</th>\n",
       "      <th>artist_name</th>\n",
       "      <th>track_name</th>\n",
       "      <th>track_id</th>\n",
       "      <th>popularity</th>\n",
       "      <th>acousticness</th>\n",
       "      <th>danceability</th>\n",
       "      <th>duration_ms</th>\n",
       "      <th>energy</th>\n",
       "      <th>instrumentalness</th>\n",
       "      <th>key</th>\n",
       "      <th>liveness</th>\n",
       "      <th>loudness</th>\n",
       "      <th>mode</th>\n",
       "      <th>speechiness</th>\n",
       "      <th>tempo</th>\n",
       "      <th>time_signature</th>\n",
       "      <th>valence</th>\n",
       "    </tr>\n",
       "  </thead>\n",
       "  <tbody>\n",
       "    <tr>\n",
       "      <th>71689</th>\n",
       "      <td>Children's Music</td>\n",
       "      <td>Tom's Music Box</td>\n",
       "      <td>Lullaby and Good Night</td>\n",
       "      <td>30y8W512Sf3RbhVDHF38vY</td>\n",
       "      <td>51</td>\n",
       "      <td>0.596</td>\n",
       "      <td>0.917</td>\n",
       "      <td>64322</td>\n",
       "      <td>0.185</td>\n",
       "      <td>0.859</td>\n",
       "      <td>D</td>\n",
       "      <td>0.129</td>\n",
       "      <td>-10.079</td>\n",
       "      <td>Major</td>\n",
       "      <td>0.12</td>\n",
       "      <td>94.029</td>\n",
       "      <td>3/4</td>\n",
       "      <td>0.775</td>\n",
       "    </tr>\n",
       "  </tbody>\n",
       "</table>\n",
       "</div>"
      ],
      "text/plain": [
       "                  genre      artist_name  ... time_signature valence\n",
       "71689  Children's Music  Tom's Music Box  ...            3/4   0.775\n",
       "\n",
       "[1 rows x 18 columns]"
      ]
     },
     "execution_count": 182,
     "metadata": {},
     "output_type": "execute_result"
    }
   ],
   "source": [
    "sp.loc[(sp['popularity'] > 50) & (sp['genre'] == 'Children\\'s Music')].head()"
   ]
  },
  {
   "cell_type": "code",
   "execution_count": 5,
   "id": "sWoQxpjjnrRP",
   "metadata": {
    "colab": {
     "base_uri": "https://localhost:8080/",
     "height": 247
    },
    "id": "sWoQxpjjnrRP",
    "outputId": "02b6baab-9858-44c4-db4b-bbd526356e10"
   },
   "outputs": [
    {
     "data": {
      "text/html": [
       "<div>\n",
       "<style scoped>\n",
       "    .dataframe tbody tr th:only-of-type {\n",
       "        vertical-align: middle;\n",
       "    }\n",
       "\n",
       "    .dataframe tbody tr th {\n",
       "        vertical-align: top;\n",
       "    }\n",
       "\n",
       "    .dataframe thead th {\n",
       "        text-align: right;\n",
       "    }\n",
       "</style>\n",
       "<table border=\"1\" class=\"dataframe\">\n",
       "  <thead>\n",
       "    <tr style=\"text-align: right;\">\n",
       "      <th></th>\n",
       "      <th>genre</th>\n",
       "      <th>artist_name</th>\n",
       "      <th>track_name</th>\n",
       "      <th>track_id</th>\n",
       "      <th>popularity</th>\n",
       "      <th>acousticness</th>\n",
       "      <th>danceability</th>\n",
       "      <th>duration_ms</th>\n",
       "      <th>energy</th>\n",
       "      <th>instrumentalness</th>\n",
       "      <th>key</th>\n",
       "      <th>liveness</th>\n",
       "      <th>loudness</th>\n",
       "      <th>mode</th>\n",
       "      <th>speechiness</th>\n",
       "      <th>tempo</th>\n",
       "      <th>time_signature</th>\n",
       "      <th>valence</th>\n",
       "    </tr>\n",
       "  </thead>\n",
       "  <tbody>\n",
       "    <tr>\n",
       "      <th>71652</th>\n",
       "      <td>Children's Music</td>\n",
       "      <td>Pinkfong</td>\n",
       "      <td>Baby Shark Music Box</td>\n",
       "      <td>07enmUOMmpuy7ZVUXHAPIk</td>\n",
       "      <td>44</td>\n",
       "      <td>0.68800</td>\n",
       "      <td>0.686</td>\n",
       "      <td>110523</td>\n",
       "      <td>0.121</td>\n",
       "      <td>0.885000</td>\n",
       "      <td>G</td>\n",
       "      <td>0.0793</td>\n",
       "      <td>-20.751</td>\n",
       "      <td>Major</td>\n",
       "      <td>0.1030</td>\n",
       "      <td>148.002</td>\n",
       "      <td>4/4</td>\n",
       "      <td>0.818</td>\n",
       "    </tr>\n",
       "    <tr>\n",
       "      <th>71671</th>\n",
       "      <td>Children's Music</td>\n",
       "      <td>Toddler Tunes</td>\n",
       "      <td>Baby Shark (The Shark Song)</td>\n",
       "      <td>0BnTI0w7x5f5PPlWQzJFjo</td>\n",
       "      <td>40</td>\n",
       "      <td>0.00809</td>\n",
       "      <td>0.679</td>\n",
       "      <td>121500</td>\n",
       "      <td>0.310</td>\n",
       "      <td>0.000000</td>\n",
       "      <td>G</td>\n",
       "      <td>0.1030</td>\n",
       "      <td>-11.959</td>\n",
       "      <td>Major</td>\n",
       "      <td>0.0901</td>\n",
       "      <td>146.396</td>\n",
       "      <td>1/4</td>\n",
       "      <td>0.850</td>\n",
       "    </tr>\n",
       "    <tr>\n",
       "      <th>73177</th>\n",
       "      <td>Children's Music</td>\n",
       "      <td>Nursery Rhymes and Kids Songs</td>\n",
       "      <td>Baby Shark</td>\n",
       "      <td>3itMoTSgbtRZUvhZlOOYxb</td>\n",
       "      <td>3</td>\n",
       "      <td>0.45500</td>\n",
       "      <td>0.907</td>\n",
       "      <td>114977</td>\n",
       "      <td>0.335</td>\n",
       "      <td>0.000003</td>\n",
       "      <td>G</td>\n",
       "      <td>0.0711</td>\n",
       "      <td>-16.572</td>\n",
       "      <td>Major</td>\n",
       "      <td>0.0489</td>\n",
       "      <td>109.990</td>\n",
       "      <td>4/4</td>\n",
       "      <td>0.973</td>\n",
       "    </tr>\n",
       "  </tbody>\n",
       "</table>\n",
       "</div>"
      ],
      "text/plain": [
       "                  genre                    artist_name  ... time_signature valence\n",
       "71652  Children's Music                       Pinkfong  ...            4/4   0.818\n",
       "71671  Children's Music                  Toddler Tunes  ...            1/4   0.850\n",
       "73177  Children's Music  Nursery Rhymes and Kids Songs  ...            4/4   0.973\n",
       "\n",
       "[3 rows x 18 columns]"
      ]
     },
     "execution_count": 5,
     "metadata": {},
     "output_type": "execute_result"
    }
   ],
   "source": [
    "sp.loc[(sp['track_name'].str.contains(\"Baby Shark\")) & (sp['genre'] == 'Children\\'s Music')]"
   ]
  },
  {
   "cell_type": "code",
   "execution_count": 9,
   "id": "3hDPg_K7dMLL",
   "metadata": {
    "colab": {
     "base_uri": "https://localhost:8080/",
     "height": 337
    },
    "id": "3hDPg_K7dMLL",
    "outputId": "3bccf6ab-8704-4a99-98d2-bbdc64696304"
   },
   "outputs": [
    {
     "data": {
      "text/plain": [
       "<matplotlib.axes._subplots.AxesSubplot at 0x7f99fc097710>"
      ]
     },
     "execution_count": 9,
     "metadata": {},
     "output_type": "execute_result"
    },
    {
     "data": {
      "image/png": "[encoded data removed]",
      "text/plain": [
       "<Figure size 720x360 with 1 Axes>"
      ]
     },
     "metadata": {
      "needs_background": "light"
     },
     "output_type": "display_data"
    }
   ],
   "source": [
    "plt.figure(figsize = (10,5))\n",
    "sp[sp['genre'] == 'Movie']['acousticness'].hist(bins=1000, color='#91131f')"
   ]
  },
  {
   "cell_type": "code",
   "execution_count": 14,
   "id": "4JmDMx_CMWgc",
   "metadata": {
    "colab": {
     "base_uri": "https://localhost:8080/",
     "height": 469
    },
    "id": "4JmDMx_CMWgc",
    "outputId": "3f67ec0b-1e8a-46e8-ad2c-f7d45c2ca93a"
   },
   "outputs": [
    {
     "data": {
      "text/plain": [
       "{'boxes': [<matplotlib.lines.Line2D at 0x7f99fa1856d0>],\n",
       " 'caps': [<matplotlib.lines.Line2D at 0x7f99fa18a750>,\n",
       "  <matplotlib.lines.Line2D at 0x7f99fa18ac90>],\n",
       " 'fliers': [<matplotlib.lines.Line2D at 0x7f99fa191790>],\n",
       " 'means': [],\n",
       " 'medians': [<matplotlib.lines.Line2D at 0x7f99fa191250>],\n",
       " 'whiskers': [<matplotlib.lines.Line2D at 0x7f99fa185c90>,\n",
       "  <matplotlib.lines.Line2D at 0x7f99fa18a210>]}"
      ]
     },
     "execution_count": 14,
     "metadata": {},
     "output_type": "execute_result"
    },
    {
     "data": {
      "image/png": "[encoded data removed]",
      "text/plain": [
       "<Figure size 1080x360 with 1 Axes>"
      ]
     },
     "metadata": {
      "needs_background": "light"
     },
     "output_type": "display_data"
    }
   ],
   "source": [
    "plt.figure(figsize = (15,5))\n",
    "unique = sp.drop_duplicates(subset=['track_id'])\n",
    "plt.boxplot(unique.duration_ms, vert=False, whis=0.96)"
   ]
  },
  {
   "cell_type": "code",
   "execution_count": 17,
   "id": "-2uxCz5kBNLl",
   "metadata": {
    "colab": {
     "base_uri": "https://localhost:8080/",
     "height": 351
    },
    "id": "-2uxCz5kBNLl",
    "outputId": "f9e91d68-a042-41d6-876e-d0030dcf14e8"
   },
   "outputs": [
    {
     "data": {
      "text/plain": [
       "<matplotlib.collections.PathCollection at 0x7f99f9f22d90>"
      ]
     },
     "execution_count": 17,
     "metadata": {},
     "output_type": "execute_result"
    },
    {
     "data": {
      "image/png": "[encoded data removed]",
      "text/plain": [
       "<Figure size 1080x360 with 1 Axes>"
      ]
     },
     "metadata": {
      "needs_background": "light"
     },
     "output_type": "display_data"
    }
   ],
   "source": [
    "plt.figure(figsize = (15,5))\n",
    "unique = sp.drop_duplicates(subset=['track_id'])\n",
    "pop = unique.sort_values('popularity').tail(100)\n",
    "rand = unique.sample(n = 100)\n",
    "#not_pop = sp.sort_values('popularity').head(100)\n",
    "plt.xlabel('danceability')\n",
    "plt.ylabel('loudness')\n",
    "plt.scatter(pop['danceability'], pop['loudness'], color='#91131f')\n",
    "plt.scatter(rand['danceability'], rand['loudness'], color='#11230f')"
   ]
  },
  {
   "cell_type": "code",
   "execution_count": 18,
   "id": "L_473Hgw6JGD",
   "metadata": {
    "colab": {
     "base_uri": "https://localhost:8080/",
     "height": 617
    },
    "id": "L_473Hgw6JGD",
    "outputId": "781d4162-24e8-4d0e-d5ee-b91ac744c46f"
   },
   "outputs": [
    {
     "data": {
      "text/html": [
       "<div>\n",
       "<style scoped>\n",
       "    .dataframe tbody tr th:only-of-type {\n",
       "        vertical-align: middle;\n",
       "    }\n",
       "\n",
       "    .dataframe tbody tr th {\n",
       "        vertical-align: top;\n",
       "    }\n",
       "\n",
       "    .dataframe thead th {\n",
       "        text-align: right;\n",
       "    }\n",
       "</style>\n",
       "<table border=\"1\" class=\"dataframe\">\n",
       "  <thead>\n",
       "    <tr style=\"text-align: right;\">\n",
       "      <th></th>\n",
       "      <th>genre</th>\n",
       "      <th>artist_name</th>\n",
       "      <th>track_name</th>\n",
       "      <th>track_id</th>\n",
       "      <th>popularity</th>\n",
       "      <th>acousticness</th>\n",
       "      <th>danceability</th>\n",
       "      <th>duration_ms</th>\n",
       "      <th>energy</th>\n",
       "      <th>instrumentalness</th>\n",
       "      <th>key</th>\n",
       "      <th>liveness</th>\n",
       "      <th>loudness</th>\n",
       "      <th>mode</th>\n",
       "      <th>speechiness</th>\n",
       "      <th>tempo</th>\n",
       "      <th>time_signature</th>\n",
       "      <th>valence</th>\n",
       "      <th>club</th>\n",
       "    </tr>\n",
       "  </thead>\n",
       "  <tbody>\n",
       "    <tr>\n",
       "      <th>91802</th>\n",
       "      <td>Hip-Hop</td>\n",
       "      <td>ScHoolboy Q</td>\n",
       "      <td>Big Body</td>\n",
       "      <td>7fQzRNL3k0YUkhTTSuZgcg</td>\n",
       "      <td>49</td>\n",
       "      <td>0.07240</td>\n",
       "      <td>0.944</td>\n",
       "      <td>223360</td>\n",
       "      <td>0.949</td>\n",
       "      <td>0.000000</td>\n",
       "      <td>C#</td>\n",
       "      <td>0.3480</td>\n",
       "      <td>-5.606</td>\n",
       "      <td>Minor</td>\n",
       "      <td>0.1900</td>\n",
       "      <td>116.012</td>\n",
       "      <td>4/4</td>\n",
       "      <td>0.763</td>\n",
       "      <td>1.000000</td>\n",
       "    </tr>\n",
       "    <tr>\n",
       "      <th>72581</th>\n",
       "      <td>Children's Music</td>\n",
       "      <td>Choo Choo Soul</td>\n",
       "      <td>Move Like a Chicken - Original Version</td>\n",
       "      <td>3agNA4O7UqFFPEuU3R4R1L</td>\n",
       "      <td>6</td>\n",
       "      <td>0.20600</td>\n",
       "      <td>0.954</td>\n",
       "      <td>149907</td>\n",
       "      <td>0.925</td>\n",
       "      <td>0.000006</td>\n",
       "      <td>A#</td>\n",
       "      <td>0.1900</td>\n",
       "      <td>-5.740</td>\n",
       "      <td>Minor</td>\n",
       "      <td>0.1450</td>\n",
       "      <td>120.005</td>\n",
       "      <td>4/4</td>\n",
       "      <td>0.756</td>\n",
       "      <td>0.993505</td>\n",
       "    </tr>\n",
       "    <tr>\n",
       "      <th>37072</th>\n",
       "      <td>Electronic</td>\n",
       "      <td>Kraftwerk</td>\n",
       "      <td>Showroom Dummies - 2009 Remastered Version</td>\n",
       "      <td>14WXiFyHivuF9FmGD0c7Ot</td>\n",
       "      <td>33</td>\n",
       "      <td>0.26900</td>\n",
       "      <td>0.910</td>\n",
       "      <td>375320</td>\n",
       "      <td>0.954</td>\n",
       "      <td>0.449000</td>\n",
       "      <td>C</td>\n",
       "      <td>0.0948</td>\n",
       "      <td>-6.750</td>\n",
       "      <td>Minor</td>\n",
       "      <td>0.0598</td>\n",
       "      <td>125.119</td>\n",
       "      <td>4/4</td>\n",
       "      <td>0.926</td>\n",
       "      <td>0.990991</td>\n",
       "    </tr>\n",
       "    <tr>\n",
       "      <th>163194</th>\n",
       "      <td>Reggaeton</td>\n",
       "      <td>Baby Rasta</td>\n",
       "      <td>Una Fuerte Explosion</td>\n",
       "      <td>6jx0kw8CH5cR4sB1ChnRTG</td>\n",
       "      <td>23</td>\n",
       "      <td>0.04530</td>\n",
       "      <td>0.901</td>\n",
       "      <td>86622</td>\n",
       "      <td>0.948</td>\n",
       "      <td>0.001850</td>\n",
       "      <td>G</td>\n",
       "      <td>0.5130</td>\n",
       "      <td>-7.905</td>\n",
       "      <td>Major</td>\n",
       "      <td>0.1440</td>\n",
       "      <td>108.004</td>\n",
       "      <td>4/4</td>\n",
       "      <td>0.887</td>\n",
       "      <td>0.989220</td>\n",
       "    </tr>\n",
       "    <tr>\n",
       "      <th>19458</th>\n",
       "      <td>Dance</td>\n",
       "      <td>Gwen Stefani</td>\n",
       "      <td>Wind It Up</td>\n",
       "      <td>1GeECVH4Msg1zLm8DExkbH</td>\n",
       "      <td>48</td>\n",
       "      <td>0.33500</td>\n",
       "      <td>0.960</td>\n",
       "      <td>189587</td>\n",
       "      <td>0.895</td>\n",
       "      <td>0.000176</td>\n",
       "      <td>C</td>\n",
       "      <td>0.3640</td>\n",
       "      <td>-6.899</td>\n",
       "      <td>Minor</td>\n",
       "      <td>0.0714</td>\n",
       "      <td>120.010</td>\n",
       "      <td>4/4</td>\n",
       "      <td>0.920</td>\n",
       "      <td>0.987137</td>\n",
       "    </tr>\n",
       "    <tr>\n",
       "      <th>61153</th>\n",
       "      <td>R&amp;B</td>\n",
       "      <td>Gwen Stefani</td>\n",
       "      <td>Wind It Up</td>\n",
       "      <td>1GeECVH4Msg1zLm8DExkbH</td>\n",
       "      <td>48</td>\n",
       "      <td>0.33500</td>\n",
       "      <td>0.960</td>\n",
       "      <td>189587</td>\n",
       "      <td>0.895</td>\n",
       "      <td>0.000176</td>\n",
       "      <td>C</td>\n",
       "      <td>0.3640</td>\n",
       "      <td>-6.899</td>\n",
       "      <td>Minor</td>\n",
       "      <td>0.0714</td>\n",
       "      <td>120.010</td>\n",
       "      <td>4/4</td>\n",
       "      <td>0.920</td>\n",
       "      <td>0.987137</td>\n",
       "    </tr>\n",
       "    <tr>\n",
       "      <th>20981</th>\n",
       "      <td>Dance</td>\n",
       "      <td>Sentidos Opuestos</td>\n",
       "      <td>Amor De Papel</td>\n",
       "      <td>6RTlokHIiobtIsthCLm3as</td>\n",
       "      <td>60</td>\n",
       "      <td>0.23500</td>\n",
       "      <td>0.827</td>\n",
       "      <td>248227</td>\n",
       "      <td>0.951</td>\n",
       "      <td>0.267000</td>\n",
       "      <td>E</td>\n",
       "      <td>0.1720</td>\n",
       "      <td>-13.509</td>\n",
       "      <td>Major</td>\n",
       "      <td>0.0535</td>\n",
       "      <td>129.995</td>\n",
       "      <td>4/4</td>\n",
       "      <td>0.865</td>\n",
       "      <td>0.981545</td>\n",
       "    </tr>\n",
       "    <tr>\n",
       "      <th>165256</th>\n",
       "      <td>Reggaeton</td>\n",
       "      <td>El Alfa</td>\n",
       "      <td>El Baile del Dinero</td>\n",
       "      <td>0BbyjshP4Izsu9YbtObG0F</td>\n",
       "      <td>20</td>\n",
       "      <td>0.00506</td>\n",
       "      <td>0.925</td>\n",
       "      <td>182477</td>\n",
       "      <td>0.952</td>\n",
       "      <td>0.001720</td>\n",
       "      <td>C#</td>\n",
       "      <td>0.0670</td>\n",
       "      <td>-3.518</td>\n",
       "      <td>Minor</td>\n",
       "      <td>0.1730</td>\n",
       "      <td>120.986</td>\n",
       "      <td>4/4</td>\n",
       "      <td>0.398</td>\n",
       "      <td>0.981078</td>\n",
       "    </tr>\n",
       "    <tr>\n",
       "      <th>17090</th>\n",
       "      <td>Dance</td>\n",
       "      <td>Eiffel 65</td>\n",
       "      <td>Blue (Da Ba Dee) - Gabry Ponte Video Edit</td>\n",
       "      <td>7lMIJ4EFWRVoAIPDpeGyM3</td>\n",
       "      <td>58</td>\n",
       "      <td>0.22700</td>\n",
       "      <td>0.829</td>\n",
       "      <td>219618</td>\n",
       "      <td>0.965</td>\n",
       "      <td>0.000131</td>\n",
       "      <td>G</td>\n",
       "      <td>0.4660</td>\n",
       "      <td>-11.498</td>\n",
       "      <td>Minor</td>\n",
       "      <td>0.0597</td>\n",
       "      <td>127.999</td>\n",
       "      <td>4/4</td>\n",
       "      <td>0.729</td>\n",
       "      <td>0.979436</td>\n",
       "    </tr>\n",
       "    <tr>\n",
       "      <th>25649</th>\n",
       "      <td>Electronic</td>\n",
       "      <td>MC Hammer</td>\n",
       "      <td>Turn This Mutha Out</td>\n",
       "      <td>2hmm9zhst4zkHu2743ZSVW</td>\n",
       "      <td>32</td>\n",
       "      <td>0.00358</td>\n",
       "      <td>0.874</td>\n",
       "      <td>283333</td>\n",
       "      <td>0.973</td>\n",
       "      <td>0.065600</td>\n",
       "      <td>G</td>\n",
       "      <td>0.3700</td>\n",
       "      <td>-6.155</td>\n",
       "      <td>Major</td>\n",
       "      <td>0.0430</td>\n",
       "      <td>111.384</td>\n",
       "      <td>4/4</td>\n",
       "      <td>0.898</td>\n",
       "      <td>0.979216</td>\n",
       "    </tr>\n",
       "  </tbody>\n",
       "</table>\n",
       "</div>"
      ],
      "text/plain": [
       "                   genre        artist_name  ... valence      club\n",
       "91802            Hip-Hop        ScHoolboy Q  ...   0.763  1.000000\n",
       "72581   Children's Music     Choo Choo Soul  ...   0.756  0.993505\n",
       "37072         Electronic          Kraftwerk  ...   0.926  0.990991\n",
       "163194         Reggaeton         Baby Rasta  ...   0.887  0.989220\n",
       "19458              Dance       Gwen Stefani  ...   0.920  0.987137\n",
       "61153                R&B       Gwen Stefani  ...   0.920  0.987137\n",
       "20981              Dance  Sentidos Opuestos  ...   0.865  0.981545\n",
       "165256         Reggaeton            El Alfa  ...   0.398  0.981078\n",
       "17090              Dance          Eiffel 65  ...   0.729  0.979436\n",
       "25649         Electronic          MC Hammer  ...   0.898  0.979216\n",
       "\n",
       "[10 rows x 19 columns]"
      ]
     },
     "execution_count": 18,
     "metadata": {},
     "output_type": "execute_result"
    }
   ],
   "source": [
    "sp.loc[:, 'club'] = sp['danceability'] + sp['energy'] - sp['loudness'] / 100 \n",
    "benchmark = max(sp['club'])\n",
    "sp['club'] = sp['club'].apply(lambda x: x / benchmark)\n",
    "sp.sort_values('club', ascending = False).head(10)"
   ]
  },
  {
   "cell_type": "markdown",
   "id": "figured-arnold",
   "metadata": {
    "id": "figured-arnold"
   },
   "source": [
    "# 2. Интерполяция кривой\n",
    "\n",
    "Сгенерируйте от 5 до 20 точек со случайными разными координатами (x, y), расположите их на координатной плоскости\n",
    "\n",
    "1. С помощью библиотеки scipy примените один из её [алгоритмов интерполяции](https://docs.scipy.org/doc/scipy/reference/interpolate.html) к сгенерированным данным\n",
    "1. Изучите математический подход метод выбранного алгоритма интерполяции в scipy. Найдите и продемонстрируйте при сдаче реализацию метода в исходном коде библиотеки scipy. Найти можно в [github репозитории проекта](https://github.com/scipy/scipy)\n",
    "1. Выберите среди методов интерполяции в scipy любой другой метод интерполяции (кроме линейной интерполяций). Реализуйте выбранный метод без использования сторонних библиотек. Разрешается использовать numpy для упрощения математичеких вычислений\n",
    "1. Визуализируйте кривую интерполяции библиотечного и вашего алгоритмов с помощью  matplotlib. Сравните качество интерполяции своего и библиотечного методов, объясните разницу в качестве"
   ]
  },
  {
   "cell_type": "code",
   "execution_count": 49,
   "id": "DZGQyXYM_TiH",
   "metadata": {
    "colab": {
     "base_uri": "https://localhost:8080/",
     "height": 265
    },
    "id": "DZGQyXYM_TiH",
    "outputId": "37a77122-4219-4aab-a922-4e81739d4efb"
   },
   "outputs": [
    {
     "data": {
      "image/png": "[encoded data removed]",
      "text/plain": [
       "<Figure size 432x288 with 1 Axes>"
      ]
     },
     "metadata": {
      "needs_background": "light"
     },
     "output_type": "display_data"
    }
   ],
   "source": [
    "import numpy as np\n",
    "import pandas as pd\n",
    "import matplotlib.pyplot as plt\n",
    "x = np.random.rand(12) * 100\n",
    "y = np.random.rand(12) * 100\n",
    "plt.plot(x, y, 'o', color='#91131f');"
   ]
  },
  {
   "cell_type": "markdown",
   "id": "alleged-tooth",
   "metadata": {
    "id": "alleged-tooth"
   },
   "source": [
    "# 3. Быстрая гистограмма\n",
    "\n",
    "Иногда хочется получить дискретное распределение из N колонок. Но пока что для этого у нас есть только plt.hist(), которая тратит много времени на отрисовку графика. Вам предлагается реализовать свою функцию построения дискретного распределения\n",
    "\n",
    "1. Алгоритм должен получать на вход список чисел и количество колонок гистограммы. Возвращать нужно значения столбцов (ось абсцисс гистограммы) и количество значений, принадлежащее столбцу (ось ординат гистограммы). Пример с использованием plt показан ниже, сигнатура функции также показана ниже\n",
    "1. Изучите функцию [plt.bar](https://matplotlib.org/stable/api/_as_gen/matplotlib.pyplot.bar.html). Это такая же гистограмма как plt.hist, но в отличие от hist требуется явно указывать высоту колонок и их название\n",
    "1. С помощью результатов своего алгоритма и plt.bar постройте гистограмму по массиву из 50+ случайных чисел. Графики plt.bar по вашему алгоритму и plt.hist() должны совпадать, что подтвердит корректность работы вашего алгоритма\n",
    "1. Сравните скорость построения распределения по массиву чисел с помощью своего алгоритма и с помощью plt.hist. В jupyter рекомендуется использовать built-in magic commands, а именно timeit. Но можно обойтись и ручными измерениями времени выполнения"
   ]
  },
  {
   "cell_type": "code",
   "execution_count": 2,
   "id": "harmful-settle",
   "metadata": {
    "colab": {
     "base_uri": "https://localhost:8080/",
     "height": 299
    },
    "id": "harmful-settle",
    "outputId": "e2c746f5-e8e8-4f2a-d975-70bac240e86e"
   },
   "outputs": [
    {
     "name": "stdout",
     "output_type": "stream",
     "text": [
      "Значения колонок: [3. 2. 2. 2.]\n",
      "Названия колонок: [1.   1.75 2.5  3.25 4.  ]\n"
     ]
    },
    {
     "data": {
      "image/png": "[encoded data removed]",
      "text/plain": [
       "<Figure size 432x288 with 1 Axes>"
      ]
     },
     "metadata": {
      "needs_background": "light"
     },
     "output_type": "display_data"
    }
   ],
   "source": [
    "# Пример гистограммы с помощью plt.hist()\n",
    "import matplotlib.pyplot as plt\n",
    "\n",
    "array = [1,1,2,3,4,1,2,3,4]\n",
    "\n",
    "value_counts, bins_names, visual_figure = plt.hist(array, \n",
    "                                                   bins=len(set(array)), \n",
    "                                                   rwidth=0.9)\n",
    "# Параметр rwidth и визуализацию в своей функции реализовывать не требуется\n",
    "print('Значения колонок:', value_counts)\n",
    "print('Названия колонок:', bins_names)"
   ]
  },
  {
   "cell_type": "code",
   "execution_count": 3,
   "id": "parliamentary-worker",
   "metadata": {
    "id": "parliamentary-worker"
   },
   "outputs": [],
   "source": [
    "from typing import List, Tuple, Union\n",
    "\n",
    "def fast_hist(array: List[Union[int, float]], \n",
    "              bins: int) -> Tuple[List[int], List[float]]:\n",
    "    \"\"\"\n",
    "    Builds bins' labels and bins' value counts for given array\n",
    "    :param array: array with numeric values\n",
    "    :param bins:  number of bins in result distribution\n",
    "    :return: Two lists: \n",
    "             first contains value counts of each bin,\n",
    "             second contains list of bins' labels\n",
    "    \"\"\"\n",
    "    maximim = max(array)\n",
    "    minimum = min(array)\n",
    "    step = (maximim - minimum) / bins\n",
    "    count = [0] * bins\n",
    "    for i in array:\n",
    "      count[min(int((i - minimum) / step) , bins - 1)] += 1\n",
    "    return (count, np.arange(minimum, maximim, step))"
   ]
  },
  {
   "cell_type": "code",
   "execution_count": 8,
   "id": "automated-prince",
   "metadata": {
    "colab": {
     "base_uri": "https://localhost:8080/",
     "height": 282
    },
    "id": "automated-prince",
    "outputId": "cfbc7bbd-cb0d-4b70-80b7-0fe0e55e3546"
   },
   "outputs": [
    {
     "data": {
      "text/plain": [
       "<BarContainer object of 4 artists>"
      ]
     },
     "execution_count": 8,
     "metadata": {},
     "output_type": "execute_result"
    },
    {
     "data": {
      "image/png": "[encoded data removed]",
      "text/plain": [
       "<Figure size 432x288 with 1 Axes>"
      ]
     },
     "metadata": {
      "needs_background": "light"
     },
     "output_type": "display_data"
    }
   ],
   "source": [
    "array = [1,1,2,3,4,1,2,3,4]\n",
    "count, names = fast_hist(array, len(set(array)))\n",
    "plt.bar(names, count, width=0.6)"
   ]
  },
  {
   "cell_type": "code",
   "execution_count": 14,
   "id": "6q06mHkQF67J",
   "metadata": {
    "colab": {
     "base_uri": "https://localhost:8080/",
     "height": 249
    },
    "id": "6q06mHkQF67J",
    "outputId": "9ae3f1e6-17f6-4638-bd7f-24d53dd2eff9"
   },
   "outputs": [
    {
     "ename": "NameError",
     "evalue": "ignored",
     "output_type": "error",
     "traceback": [
      "\u001b[0;31m---------------------------------------------------------------------------\u001b[0m",
      "\u001b[0;31mNameError\u001b[0m                                 Traceback (most recent call last)",
      "\u001b[0;32m<ipython-input-14-a9aebe3207f7>\u001b[0m in \u001b[0;36m<module>\u001b[0;34m()\u001b[0m\n\u001b[0;32m----> 1\u001b[0;31m \u001b[0marray\u001b[0m \u001b[0;34m=\u001b[0m \u001b[0;34m[\u001b[0m\u001b[0mrandom\u001b[0m\u001b[0;34m.\u001b[0m\u001b[0mrandint\u001b[0m\u001b[0;34m(\u001b[0m\u001b[0;36m0\u001b[0m\u001b[0;34m,\u001b[0m \u001b[0;36m51\u001b[0m\u001b[0;34m)\u001b[0m \u001b[0;32mfor\u001b[0m \u001b[0m_\u001b[0m \u001b[0;32min\u001b[0m \u001b[0mrange\u001b[0m\u001b[0;34m(\u001b[0m\u001b[0;36m5000\u001b[0m\u001b[0;34m)\u001b[0m\u001b[0;34m]\u001b[0m\u001b[0;34m\u001b[0m\u001b[0;34m\u001b[0m\u001b[0m\n\u001b[0m\u001b[1;32m      2\u001b[0m \u001b[0mplt\u001b[0m\u001b[0;34m.\u001b[0m\u001b[0mhist\u001b[0m\u001b[0;34m(\u001b[0m\u001b[0marray\u001b[0m\u001b[0;34m,\u001b[0m \u001b[0;36m1000\u001b[0m\u001b[0;34m)\u001b[0m\u001b[0;34m\u001b[0m\u001b[0;34m\u001b[0m\u001b[0m\n",
      "\u001b[0;32m<ipython-input-14-a9aebe3207f7>\u001b[0m in \u001b[0;36m<listcomp>\u001b[0;34m(.0)\u001b[0m\n\u001b[0;32m----> 1\u001b[0;31m \u001b[0marray\u001b[0m \u001b[0;34m=\u001b[0m \u001b[0;34m[\u001b[0m\u001b[0mrandom\u001b[0m\u001b[0;34m.\u001b[0m\u001b[0mrandint\u001b[0m\u001b[0;34m(\u001b[0m\u001b[0;36m0\u001b[0m\u001b[0;34m,\u001b[0m \u001b[0;36m51\u001b[0m\u001b[0;34m)\u001b[0m \u001b[0;32mfor\u001b[0m \u001b[0m_\u001b[0m \u001b[0;32min\u001b[0m \u001b[0mrange\u001b[0m\u001b[0;34m(\u001b[0m\u001b[0;36m5000\u001b[0m\u001b[0;34m)\u001b[0m\u001b[0;34m]\u001b[0m\u001b[0;34m\u001b[0m\u001b[0;34m\u001b[0m\u001b[0m\n\u001b[0m\u001b[1;32m      2\u001b[0m \u001b[0mplt\u001b[0m\u001b[0;34m.\u001b[0m\u001b[0mhist\u001b[0m\u001b[0;34m(\u001b[0m\u001b[0marray\u001b[0m\u001b[0;34m,\u001b[0m \u001b[0;36m1000\u001b[0m\u001b[0;34m)\u001b[0m\u001b[0;34m\u001b[0m\u001b[0;34m\u001b[0m\u001b[0m\n",
      "\u001b[0;31mNameError\u001b[0m: name 'random' is not defined"
     ]
    }
   ],
   "source": [
    "array = [random.randint(0, 51) for _ in range(5000)]\n",
    "plt.hist(array, 1000)"
   ]
  }
 ],
 "metadata": {
  "colab": {
   "name": "Lab-1.ipynb",
   "provenance": []
  },
  "kernelspec": {
   "display_name": "Python 3",
   "language": "python",
   "name": "python3"
  },
  "language_info": {
   "codemirror_mode": {
    "name": "ipython",
    "version": 3
   },
   "file_extension": ".py",
   "mimetype": "text/x-python",
   "name": "python",
   "nbconvert_exporter": "python",
   "pygments_lexer": "ipython3",
   "version": "3.8.2"
  }
 },
 "nbformat": 4,
 "nbformat_minor": 5
}
