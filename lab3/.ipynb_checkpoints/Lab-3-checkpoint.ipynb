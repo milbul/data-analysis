{
 "cells": [
  {
   "cell_type": "markdown",
   "id": "twenty-training",
   "metadata": {
    "id": "twenty-training"
   },
   "source": [
    "# Меня ждут миллионы\n",
    "\n",
    "Обучите простую модель предсказания цены акций. Используйте один из рассмотренных на лекции \"Временные последовательности\" алгоритмов предсказания рядов. Можно использовать и более сложные алгоритмы предсказания рядов\n",
    "\n",
    "\n",
    "1. Найдите данные о цене любого биржевого актива\n",
    "\n",
    "    Данные должны содержать значение цены актива как минимум за каждый день и длительностю как минимум за год. \n",
    "\n",
    "    Найти данные можно на kaggle или использовать FAANG датасет из 1 лабораторной\n",
    "\n",
    "\n",
    "2. Предобработайте данные\n",
    "\n",
    "    Временной ряд сложно предсказывать по дням. Сделайте ряд по неделям или месяцам\n",
    "   \n",
    "    Удалите из ряда тренд, если он есть. Используйте другие рассмотренные на лекции приёмы\n",
    "\n",
    "\n",
    "3. Обучите модель\n",
    "    \n",
    "    Обучите модель на 80% временного ряда\n",
    "    \n",
    "    Предскажите оставшиеся 20% (как минимум 3 точки) ряда с помощью модели \n",
    "    \n",
    "    Отобразите на графике предсказание модели и истинные данные\n",
    "\n",
    "\n",
    "4. Посчитайте метрику\n",
    "\n",
    "    Метрика должна отражать разницу между предсказанными и истинными данными. Можно выбрать меру MAPE, можно предложить свою"
   ]
  },
  {
   "cell_type": "code",
   "execution_count": 3,
   "id": "08e31c87-81a6-42c8-8244-9c0f90b02b25",
   "metadata": {},
   "outputs": [
    {
     "name": "stdout",
     "output_type": "stream",
     "text": [
      "Collecting statsmodels\n",
      "  Downloading statsmodels-0.13.1-cp39-cp39-macosx_10_15_x86_64.whl (9.6 MB)\n",
      "     |████████████████████████████████| 9.6 MB 1.4 MB/s            \n",
      "\u001b[?25hRequirement already satisfied: pandas>=0.25 in /Library/Frameworks/Python.framework/Versions/3.9/lib/python3.9/site-packages (from statsmodels) (1.3.4)\n",
      "Requirement already satisfied: numpy>=1.17 in /Library/Frameworks/Python.framework/Versions/3.9/lib/python3.9/site-packages (from statsmodels) (1.21.2)\n",
      "Requirement already satisfied: scipy>=1.3 in /Library/Frameworks/Python.framework/Versions/3.9/lib/python3.9/site-packages (from statsmodels) (1.7.1)\n",
      "Collecting patsy>=0.5.2\n",
      "  Downloading patsy-0.5.2-py2.py3-none-any.whl (233 kB)\n",
      "     |████████████████████████████████| 233 kB 9.2 MB/s            \n",
      "\u001b[?25hRequirement already satisfied: pytz>=2017.3 in /Library/Frameworks/Python.framework/Versions/3.9/lib/python3.9/site-packages (from pandas>=0.25->statsmodels) (2021.3)\n",
      "Requirement already satisfied: python-dateutil>=2.7.3 in /Library/Frameworks/Python.framework/Versions/3.9/lib/python3.9/site-packages (from pandas>=0.25->statsmodels) (2.8.2)\n",
      "Requirement already satisfied: six in /Library/Frameworks/Python.framework/Versions/3.9/lib/python3.9/site-packages (from patsy>=0.5.2->statsmodels) (1.16.0)\n",
      "Installing collected packages: patsy, statsmodels\n",
      "Successfully installed patsy-0.5.2 statsmodels-0.13.1\n"
     ]
    }
   ],
   "source": [
    "!pip3 install statsmodels"
   ]
  },
  {
   "cell_type": "code",
   "execution_count": 4,
   "id": "quarterly-tumor",
   "metadata": {
    "id": "quarterly-tumor"
   },
   "outputs": [],
   "source": [
    "# Импорт необходимых библиотек\n",
    "import copy\n",
    "import datetime\n",
    "import numpy as np\n",
    "import pandas as pd\n",
    "import matplotlib.pyplot as plt\n",
    "\n",
    "from tqdm import tqdm\n",
    "from dateutil.relativedelta import relativedelta\n",
    "\n",
    "# Source: https://www.statsmodels.org/stable/install.html\n",
    "import statsmodels\n",
    "from statsmodels.tsa.seasonal import seasonal_decompose\n",
    "from statsmodels.tsa.stattools import acf, adfuller\n",
    "from statsmodels.graphics.tsaplots import plot_acf, plot_pacf\n",
    "\n",
    "# Source: https://scikit-learn.org/stable/install.html\n",
    "from sklearn.linear_model import LinearRegression\n",
    "from sklearn.model_selection import train_test_split\n",
    "\n",
    "%matplotlib inline"
   ]
  },
  {
   "cell_type": "code",
   "execution_count": null,
   "id": "3484ce55-12d1-4c79-abb3-7215454d4c4a",
   "metadata": {},
   "outputs": [],
   "source": []
  }
 ],
 "metadata": {
  "colab": {
   "name": "Lab-3.ipynb",
   "provenance": []
  },
  "kernelspec": {
   "display_name": "Python 3 (ipykernel)",
   "language": "python",
   "name": "python3"
  },
  "language_info": {
   "codemirror_mode": {
    "name": "ipython",
    "version": 3
   },
   "file_extension": ".py",
   "mimetype": "text/x-python",
   "name": "python",
   "nbconvert_exporter": "python",
   "pygments_lexer": "ipython3",
   "version": "3.9.5"
  }
 },
 "nbformat": 4,
 "nbformat_minor": 5
}
